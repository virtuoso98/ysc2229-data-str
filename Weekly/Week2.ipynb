{
 "cells": [
  {
   "cell_type": "code",
   "execution_count": null,
   "metadata": {},
   "outputs": [],
   "source": [
    "def insertion_sort(arr):\n",
    "    for i in range(1, len(arr)):\n",
    "        j = i\n",
    "        while (j > 0 and arr[j - 1] < arr[j]):\n",
    "            arr[j], arr[j - 1] = arr[j - 1], arr[j]\n",
    "            j -=1\n",
    "    return arr\n",
    "    \n",
    "print(insertion_sort([8,4,1,2,58,9,3]))"
   ]
  },
  {
   "cell_type": "code",
   "execution_count": null,
   "metadata": {},
   "outputs": [],
   "source": [
    "def insertion_sort_alt(arr):\n",
    "    for j in range(1, len(arr)):\n",
    "        key = arr[j]\n",
    "        i = j - 1\n",
    "        while(i >= 0 and arr[i] > key):\n",
    "            arr[i + 1] = arr[i]\n",
    "            i -= 1\n",
    "        arr[i + 1] = key\n",
    "    return arr\n",
    "    \n",
    "print(insertion_sort_alt([3,1,2,4,6,7]))"
   ]
  },
  {
   "cell_type": "code",
   "execution_count": 4,
   "metadata": {},
   "outputs": [
    {
     "data": {
      "text/plain": [
       "5.0"
      ]
     },
     "execution_count": 4,
     "metadata": {},
     "output_type": "execute_result"
    }
   ],
   "source": [
    "def dist(p1, p2):\n",
    "    return ((p1[0] - p2[0])**2 + (p1[1] - p2[1])**2) ** 0.5\n",
    "\n",
    "\n",
    "dist((3, 4),(6, 8))"
   ]
  },
  {
   "cell_type": "code",
   "execution_count": 10,
   "metadata": {},
   "outputs": [
    {
     "data": {
      "text/plain": [
       "((1, 2), (3, 1))"
      ]
     },
     "execution_count": 10,
     "metadata": {},
     "output_type": "execute_result"
    }
   ],
   "source": [
    "# naive implementation\n",
    "\n",
    "def closest_points_naive(points):\n",
    "    if len(points) <= 1:\n",
    "        return \"No pair to search for\"\n",
    "    min_dist = float('inf')\n",
    "    for i in range(len(points) - 1):\n",
    "        for j in range (i + 1, len(points)):\n",
    "            if min_dist > dist(points[i], points[j]):\n",
    "                ans = (i, j)\n",
    "                min_dist = dist(points[i], points[j])\n",
    "    \n",
    "    return (points[ans[0]], points[ans[1]])\n"
   ]
  },
  {
   "cell_type": "code",
   "execution_count": 11,
   "metadata": {},
   "outputs": [
    {
     "name": "stdout",
     "output_type": "stream",
     "text": [
      "The smallest distance is 1.4142135623730951\n"
     ]
    }
   ],
   "source": [
    "class Point(): \n",
    "    def __init__(self, x, y): \n",
    "        self.x = x \n",
    "        self.y = y \n",
    "   \n",
    "def dist(p1, p2): \n",
    "    return ((p1.x - p2.x) ** 2 + (p1.y - p2.y) ** 2) ** 0.5  \n",
    "  \n",
    "\n",
    "\n",
    "def bruteForce(P, n): \n",
    "    min_val = float('inf')  \n",
    "    for i in range(n): \n",
    "        for j in range(i + 1, n): \n",
    "            if dist(P[i], P[j]) < min_val: \n",
    "                min_val = dist(P[i], P[j]) \n",
    "    return min_val \n",
    "  \n",
    "\n",
    "def stripClosest(strip, size, d): \n",
    "    min_val = d  \n",
    "    for i in range(size): \n",
    "        j = i + 1\n",
    "        while j < size and (strip[j].y - \n",
    "                            strip[i].y) < min_val: \n",
    "            min_val = dist(strip[i], strip[j]) \n",
    "            j += 1\n",
    "    return min_val  \n",
    "  \n",
    "def closestUtil(P, Q, n): \n",
    "    if n <= 3:  \n",
    "        return bruteForce(P, n)  \n",
    "  \n",
    "    mid = n // 2\n",
    "    midPoint = P[mid] \n",
    "  \n",
    "    dl = closestUtil(P[:mid], Q, mid) \n",
    "    dr = closestUtil(P[mid:], Q, n - mid)  \n",
    "    d = min(dl, dr) \n",
    "\n",
    "    strip = []  \n",
    "    for i in range(n):  \n",
    "        if abs(Q[i].x - midPoint.x) < d:  \n",
    "            strip.append(Q[i]) \n",
    "    return min(d, stripClosest(strip, len(strip), d)) \n",
    "  \n",
    "\n",
    "def closest(P, n): \n",
    "    P.sort(key = lambda point: point.x) \n",
    "    Q = P[:]\n",
    "    Q.sort(key = lambda point: point.y)      \n",
    "    return closestUtil(P, Q, n) \n",
    "\n",
    "  "
   ]
  }
 ],
 "metadata": {
  "kernelspec": {
   "display_name": "Python 3",
   "language": "python",
   "name": "python3"
  },
  "language_info": {
   "codemirror_mode": {
    "name": "ipython",
    "version": 3
   },
   "file_extension": ".py",
   "mimetype": "text/x-python",
   "name": "python",
   "nbconvert_exporter": "python",
   "pygments_lexer": "ipython3",
   "version": "3.7.6"
  }
 },
 "nbformat": 4,
 "nbformat_minor": 4
}

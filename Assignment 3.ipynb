{
 "cells": [
  {
   "cell_type": "markdown",
   "metadata": {},
   "source": [
    "# A0149963M \n",
    "## YSC 2229 - Assignment 3 Solutions\n"
   ]
  },
  {
   "cell_type": "markdown",
   "metadata": {},
   "source": [
    "Solutions to the Approximate vertex cover problem"
   ]
  },
  {
   "cell_type": "code",
   "execution_count": 14,
   "metadata": {},
   "outputs": [
    {
     "name": "stdout",
     "output_type": "stream",
     "text": [
      "bob\n",
      "kim\n"
     ]
    }
   ],
   "source": [
    "class Node:\n",
    "    def __init__(self, name= None, next = None):\n",
    "        self.name = name\n",
    "        self.next = None\n",
    "    \n",
    "    def get_name(self):\n",
    "        return self.name\n",
    "    \n",
    "class LinkedList:\n",
    "    def __init__(self):\n",
    "        self.head = None\n",
    "        \n",
    "    def insert(self, data):\n",
    "        new_node = Node(data)\n",
    "        new_node.next = self.head\n",
    "        self.head = new_node\n",
    "    \n",
    "    def display(self):\n",
    "        head = self.head\n",
    "        while head:\n",
    "            print(head.name)\n",
    "            head = head.next\n",
    "        \n",
    "\n",
    "def approx_vertex_cover(graph):\n",
    "    out = []\n",
    "    pass"
   ]
  },
  {
   "cell_type": "markdown",
   "metadata": {},
   "source": [
    "Solution to Problem 2 - assume all letters are small letters. I'm doing numbers first to get the idea"
   ]
  },
  {
   "cell_type": "code",
   "execution_count": 51,
   "metadata": {},
   "outputs": [
    {
     "name": "stdout",
     "output_type": "stream",
     "text": [
      "[1, 3, 6, 8, 9, 13, 14, 15, 15, 17]\n",
      "1\n",
      "17\n",
      "13\n",
      "6\n",
      "3\n",
      "9\n",
      "15\n",
      "14\n",
      "12\n",
      "16\n",
      "11\n",
      "8\n",
      "5\n",
      "2\n",
      "10\n",
      "7\n",
      "4\n",
      "1\n",
      "18\n",
      "18\n",
      "[0, 1, 1, 1, 2, 2, 2, 3, 3, 4, 5, 5, 5, 5, 6, 7, 9, 9]\n"
     ]
    }
   ],
   "source": [
    "def count_sort(A, k):\n",
    "    C = [0 for i in range(k)]\n",
    "    for j in range(len(A)):\n",
    "        C[A[j]] += 1\n",
    "        \n",
    "    for i in range(1, k):\n",
    "        C[i] += C[i - 1] \n",
    "    for i in range(1, k):\n",
    "        C[i] -= 1\n",
    "    \n",
    "    out = [0 for j in range(len(A))]\n",
    "    print(C)\n",
    "    for j in reversed(range(len(A))):\n",
    "        print(C[A[j]])\n",
    "        out[C[A[j]]] = A[j]\n",
    "        C[A[j]] -= 1\n",
    "    \n",
    "    print(out)\n",
    "\n",
    "count_sort([1,2,3,5,1,2,3,5,9,5,6,7,4,1,2,5,9,0], 10)\n",
    "\n",
    "def radix_sort():\n",
    "    pass"
   ]
  },
  {
   "cell_type": "markdown",
   "metadata": {},
   "source": [
    "Solution to Problem 3"
   ]
  },
  {
   "cell_type": "code",
   "execution_count": null,
   "metadata": {},
   "outputs": [],
   "source": [
    "class Stack:\n",
    "    def __init__(self, size):\n",
    "        self.items = []\n",
    "        self.size = size\n",
    "        self.cache = 0\n",
    "    \n",
    "    def isEmpty(self):\n",
    "        return self.items == []\n",
    "\n",
    "    def push(self, item):\n",
    "        self.cache += 1\n",
    "        if self.cache > self.size:\n",
    "            raise ValueError(\"overflow\")        \n",
    "        self.items.append(item)\n",
    "    \n",
    "    def pop(self):\n",
    "        self.cache -= 1    \n",
    "        if self.cache < 0:\n",
    "            raise ValueError(\"underflow\")   \n",
    "        self.items.pop()\n",
    "    \n",
    "    def size(self):\n",
    "        return self.size\n",
    "    \n",
    "    def cache(self):\n",
    "        return self.cache"
   ]
  },
  {
   "cell_type": "code",
   "execution_count": null,
   "metadata": {},
   "outputs": [],
   "source": []
  },
  {
   "cell_type": "markdown",
   "metadata": {},
   "source": [
    "Solution to problem 4"
   ]
  },
  {
   "cell_type": "code",
   "execution_count": null,
   "metadata": {},
   "outputs": [],
   "source": []
  }
 ],
 "metadata": {
  "kernelspec": {
   "display_name": "Python 3",
   "language": "python",
   "name": "python3"
  },
  "language_info": {
   "codemirror_mode": {
    "name": "ipython",
    "version": 3
   },
   "file_extension": ".py",
   "mimetype": "text/x-python",
   "name": "python",
   "nbconvert_exporter": "python",
   "pygments_lexer": "ipython3",
   "version": "3.7.6"
  }
 },
 "nbformat": 4,
 "nbformat_minor": 4
}

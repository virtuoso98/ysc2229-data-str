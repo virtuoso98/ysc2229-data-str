{
 "cells": [
  {
   "cell_type": "code",
   "execution_count": 1,
   "metadata": {},
   "outputs": [],
   "source": [
    "# A0149963M \n",
    "\n",
    "# solution for part 1, question 1\n",
    "\n",
    "def bitwise_and(s1, s2):\n",
    "    \"\"\"\n",
    "    Function to find bitwise and operator, where\n",
    "    s1 = bit string 1\n",
    "    s2 = bit string 2\n",
    "    \"\"\"\n",
    "    if len(s1) != len(s2):\n",
    "        raise ValueError(\"Length of 2 strings not equal\")\n",
    "    output = \"\"\n",
    "    for i in range(0, len(s1)):\n",
    "        if s1[i] == s2[i] and s1[i] == \"1\":\n",
    "            output += \"1\"\n",
    "        else:\n",
    "            output += \"0\"\n",
    "    return output\n",
    "\n",
    "def bitwise_minus_one(s):\n",
    "    \"\"\"\n",
    "    Scans the back of the string to find the first 1. \n",
    "    Stores the index, then copy the front part of the array.\n",
    "    Index where first 1 is detected becomes 0 and the\n",
    "    trailing part of the array becomes 1s.\n",
    "    \"\"\"\n",
    "    count = 0\n",
    "    for i in reversed(range(len(s))):\n",
    "        if s[i] == \"0\":\n",
    "            count += 1\n",
    "        else:\n",
    "            end = i\n",
    "            break\n",
    "    new_str = s[:end] + \"0\" + \"1\" * count\n",
    "    return new_str\n",
    "            \n",
    "            \n",
    "def bit_count(str_bit):\n",
    "    \"\"\"\n",
    "    Main function to find bit count. \n",
    "    Followed pseudocode closely\n",
    "    \"\"\"\n",
    "    count = 0\n",
    "    while \"1\" in str_bit:\n",
    "        count += 1\n",
    "        str_bit = bitwise_and(str_bit, bitwise_minus_one(str_bit))\n",
    "    return count"
   ]
  },
  {
   "cell_type": "code",
   "execution_count": 2,
   "metadata": {},
   "outputs": [],
   "source": [
    "def pow_aux(x, n, a):\n",
    "    \"\"\"\n",
    "    Function to compute the power function, where\n",
    "    x = base\n",
    "    n = power\n",
    "    a = accumulator \n",
    "    \"\"\"\n",
    "    if n == 0:\n",
    "        return a\n",
    "    else:\n",
    "        return pow_aux(x, n - 1, a * x)\n",
    "\n",
    "\n",
    "def pow (x, n):\n",
    "    \"\"\"\n",
    "    Lambda lifting the pow_aux function \n",
    "    and setting base case of accumulator at 1\n",
    "    \"\"\"\n",
    "    return pow_aux(x, n, 1)\n",
    "    \n",
    "    "
   ]
  },
  {
   "cell_type": "code",
   "execution_count": 3,
   "metadata": {},
   "outputs": [],
   "source": [
    "def polynomial_calc_naive(poly, param):\n",
    "    \"\"\"\n",
    "    poly - polynomial, where \n",
    "    [3, 1, 9] corresponds to 3x^2 + x + 9,\n",
    "    [4, 0, 2] corresponds to 4x^2 + 0(x) + 2,\n",
    "    [1] corresponds to 1, etc.\n",
    "    \n",
    "    param - substituted parameter.\n",
    "    for instance, 3 refers to x = 3,\n",
    "    2 refers to x = 2, etc.\n",
    "    \n",
    "    Implementation is O(n^2).\n",
    "    \"\"\"\n",
    "    acc = 0\n",
    "    max_degree = len(poly) - 1\n",
    "    for i in range(len(poly)):\n",
    "        acc += poly[i] * pow(param, max_degree)\n",
    "        max_degree -= 1\n",
    "    \n",
    "    return acc\n",
    "\n",
    "def polynomial_calc_eff(poly, param):\n",
    "    \"\"\"\n",
    "    Same function as above, except that the \n",
    "    polynomial parameter is calculated more efficiently.\n",
    "    Insteaed of recalculating it every time in the loop,\n",
    "    We calculate the maximum outside the loop and\n",
    "    decrement the power by 1 each time in the loop,\n",
    "    resulting in a O(n) implementation\n",
    "    \"\"\"\n",
    "    acc = 0 \n",
    "    max_degree = len(poly) - 1\n",
    "    max_poly_param = pow(param, max_degree)\n",
    "    \n",
    "    for i in range(len(poly)):\n",
    "        acc += poly[i] * max_poly_param\n",
    "        max_poly_param /= param\n",
    "    return acc\n"
   ]
  },
  {
   "cell_type": "code",
   "execution_count": 18,
   "metadata": {},
   "outputs": [
    {
     "name": "stdout",
     "output_type": "stream",
     "text": [
      "Poly calc naive: [1,2,4,5], 1:  12\n",
      "Poly calc eff: [1,2,4,5], 1:  12.0\n",
      "Bit_count '11111':  5\n",
      "Bit_count '10001':  2\n",
      "Bit_count '':  0\n",
      "Bit_count '1':  1\n"
     ]
    }
   ],
   "source": [
    "print(\"Poly calc naive: [1,2,4,5], 1: \", polynomial_calc_naive([1,2,4,5], 1))\n",
    "print(\"Poly calc eff: [1,2,4,5], 1: \", polynomial_calc_eff([1,2,4,5], 1))\n",
    "print(\"Bit_count '11111': \", bit_count('11111'))\n",
    "print(\"Bit_count '10001': \", bit_count('10001'))\n",
    "print(\"Bit_count '': \", bit_count(''))\n",
    "print(\"Bit_count '1': \", bit_count('1'))"
   ]
  },
  {
   "cell_type": "code",
   "execution_count": 14,
   "metadata": {},
   "outputs": [
    {
     "data": {
      "text/html": [
       "<iframe src=assignment.pdf width=1000 height=700></iframe>"
      ],
      "text/plain": [
       "<IPython.core.display.HTML object>"
      ]
     },
     "execution_count": 14,
     "metadata": {},
     "output_type": "execute_result"
    }
   ],
   "source": [
    "from IPython.display import HTML\n",
    "HTML('<iframe src=assignment.pdf width=1000 height=700></iframe>')"
   ]
  }
 ],
 "metadata": {
  "kernelspec": {
   "display_name": "Python 3",
   "language": "python",
   "name": "python3"
  },
  "language_info": {
   "codemirror_mode": {
    "name": "ipython",
    "version": 3
   },
   "file_extension": ".py",
   "mimetype": "text/x-python",
   "name": "python",
   "nbconvert_exporter": "python",
   "pygments_lexer": "ipython3",
   "version": "3.7.6"
  }
 },
 "nbformat": 4,
 "nbformat_minor": 4
}

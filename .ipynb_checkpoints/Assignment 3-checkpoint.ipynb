{
 "cells": [
  {
   "cell_type": "markdown",
   "metadata": {},
   "source": [
    "# A0149963M \n",
    "## YSC 2229 - Assignment 3 Solutions\n"
   ]
  },
  {
   "cell_type": "markdown",
   "metadata": {},
   "source": [
    "### Problem 1\n",
    "\n",
    "To start this problem off, here is a Linked List"
   ]
  },
  {
   "cell_type": "code",
   "execution_count": 98,
   "metadata": {},
   "outputs": [
    {
     "name": "stdout",
     "output_type": "stream",
     "text": [
      "(3, (3, 4))\n"
     ]
    }
   ],
   "source": [
    "class Node:\n",
    "    def __init__(self, data = None, next = None):\n",
    "        self.data = data\n",
    "        self.next = None\n",
    "    \n",
    "    def get_name(self):\n",
    "        return self.data\n",
    "    \n",
    "class LinkedList:\n",
    "    def __init__(self):\n",
    "        self.head = None\n",
    "        \n",
    "    def insert(self, data):\n",
    "        new = Node(data)\n",
    "        new.next = self.head\n",
    "        self.head = new\n",
    "    \n",
    "    def display(self):\n",
    "        head = self.head\n",
    "        while head:\n",
    "            print(head.data)\n",
    "            head = head.next\n",
    "    \n",
    "    def search(self, x):\n",
    "        curr = self.head\n",
    "        while curr != None: \n",
    "            if curr.data == x:\n",
    "                print(\"Match Found, Returning Pointer\")\n",
    "                return curr\n",
    "            curr = curr.next\n",
    "        print(\"Match not Found. Returning None\")\n",
    "        return curr\n",
    "        \n",
    "    \n",
    "    def delete(self, x):\n",
    "        temp = self.head \n",
    "        if (temp is not None):\n",
    "            if (temp.data == x):\n",
    "                self.head = temp.next\n",
    "                temp = None\n",
    "                return\n",
    "            \n",
    "        while(temp is not None):\n",
    "            if temp.data == x:\n",
    "                break\n",
    "            prev = temp\n",
    "            temp = temp.next\n",
    " \n",
    "        if(temp == None):\n",
    "            return\n",
    " \n",
    "        prev.next = temp.next\n",
    "        temp = None\n",
    "        return\n",
    "\n",
    "import random    \n",
    "    \n",
    "class Graph:\n",
    "    def __init__(self, slots):\n",
    "        self.hash = {i: LinkedList() for i in range(slots)}\n",
    "        self.slots = slots\n",
    "    \n",
    "    def insert(self, edge):\n",
    "        slot = edge[0] % self.slots        \n",
    "        self.hash[slot].insert((edge[0], edge))\n",
    "        \n",
    "    def generate(vertices):\n",
    "        low = random.randint()\n",
    "        \n",
    "g = Graph(2)\n",
    "g.insert((3,4))\n",
    "g.hash[1].display()"
   ]
  },
  {
   "cell_type": "markdown",
   "metadata": {},
   "source": [
    "In this section, I will cover the implementation of the Graph. "
   ]
  },
  {
   "cell_type": "code",
   "execution_count": null,
   "metadata": {},
   "outputs": [],
   "source": []
  },
  {
   "cell_type": "markdown",
   "metadata": {},
   "source": [
    "### Problem 2\n",
    "\n",
    "In this problem, we are required to perform radix sort on letters instead of numbers. For the most part, the implementation is very similar to what we did with numbers. However, there a few modifications to the code. \n",
    "\n",
    "In terms of Counting Sort for letters, there are a few differences. Firstly, instead of 10 possible digits (0- 9), we have 26 different possible characters **(small 'a' to small 'z')**. Since, our count array has 26 entries instead of 10. Furthermore, since count sort works on numbers, we need to convert our small letters to meaningful numbers somehow. This is done through **ord()**, which accepts a string of length 1 and returns the unicode code point representation. Hence,\n",
    "* ord(a) returns 97\n",
    "* ord(b) returns 98\n",
    "* ...\n",
    "* ord(y) returns 121\n",
    "* ord(z) returns 122\n",
    "From this, we know that the unicodes for small letters are consecutive. However, it starts from 97 and ends at 122. Since the counting array should be as small as possible to ensure that count sort works on O(n) time, we should make the count array a size of 26, not 122. This is done by shifting these unicode indexs by -97, which is defined in line 4 of the function count_sort_letters. Other than that, the main function does not change.\n",
    "\n",
    "In order to use this function, please input an array of strings that is to be sorted. Please note that this algorithm only sorts small letter characters. Correct examples include\n",
    "* [\"bob\", \"danvy\", \"unittests\", \"mathematics\", \"jewel\", \"gem\"]\n",
    "* [\"nancy\", \"dave\", \"zhao\", \"give\", \"job\", \"please\"]\n",
    "\n",
    "These are incorrect examples:\n",
    "* \"bob\", \"danvy\", \"unittests\", \"mathematics\", \"jewel\", \"gem\"\n",
    "* \"nancy\", \"dave\", \"zhao\", \"give\", \"job\", \"please\"\n",
    "* [\"2134\", \"AQUINAS\", \"Liberal\", \"Wine\"]\n",
    "\n",
    "The first 2 examples are incorrect because it is not instantiated inside a list. The last one is incorrect because it contains forbidden characters (numbers, capital letters, etc)."
   ]
  },
  {
   "cell_type": "code",
   "execution_count": 47,
   "metadata": {},
   "outputs": [
    {
     "name": "stdout",
     "output_type": "stream",
     "text": [
      "['zeta', 'umbrella', 'rain', 'dog', 'digit', 'cat', 'bob']\n"
     ]
    }
   ],
   "source": [
    "def count_sort_letters(array, size, col, max_len):\n",
    "    out   = [0] * size \n",
    "    count    = [0] * 26\n",
    "    shift = ord('a') \n",
    "\n",
    "    for item in array: \n",
    "        if col < len(item):\n",
    "            letter = ord(item[col]) - shift\n",
    "        else: \n",
    "            letter = 0\n",
    "        count[letter] += 1 \n",
    "\n",
    "    for i in range(len(count) - 1):   \n",
    "        count[i + 1] += count[i] \n",
    "\n",
    "    for item in array:\n",
    "        if col < len(item):\n",
    "            letter = ord(item[col]) - shift\n",
    "        else:\n",
    "            letter = 0\n",
    "        out[len(out) - count[letter]] = item\n",
    "        count[letter] -= 1\n",
    "    return out\n",
    "\n",
    "def radix_sort_letters(array):\n",
    "    max_col = len(max(array, key = len)) \n",
    "    for col in reversed(range(max_col)): \n",
    "        array = count_sort_letters(array, len(array), col, max_col)\n",
    "    return array\n",
    "\n",
    "print(radix_sort_letters([\"dog\", \"cat\", \"rain\", \"umbrella\", \"bob\", \"digit\", \"zeta\"]))"
   ]
  },
  {
   "cell_type": "markdown",
   "metadata": {},
   "source": [
    "### Problem 3\n",
    "\n",
    "This question prompts us to implement a queue using 2 stacks. While this is possible, we will realize that we have to pay a cost in terms of runtime later on. Before beginning, let's recap on the nature of stacks and queues:\n",
    "* Stacks - FIFO. The first element pushed is the first element popped\n",
    "* Queue - LIFO. The last element enqueued becomes the first element to be dequeued\n",
    "\n",
    "With such a large difference in terms of FIFO and LIFO, to implement a stack using a queue, the second stack will become an auxillary stack that helps fulfill the requirements of a queue. \n",
    "\n",
    "In this implementation of the queue, I felt that it didn't really make sense to include a head and tail since the stack is handling all data manipulation, so I removed it. To begin with the implementation, I "
   ]
  },
  {
   "cell_type": "code",
   "execution_count": 50,
   "metadata": {},
   "outputs": [],
   "source": [
    "class Stack:\n",
    "    def __init__(self, size):\n",
    "        self.items = [None] * size\n",
    "        self.top = 0\n",
    "        self.size = size\n",
    "    \n",
    "    def isEmpty(self):\n",
    "        return self.top == 0\n",
    "\n",
    "    def push(self, data):\n",
    "        if self.top >= self.size:\n",
    "            raise ValueError(\"Stack Overflow\")\n",
    "        self.items[self.top] = data\n",
    "        self.top += 1\n",
    "    \n",
    "    def pop(self):\n",
    "        if self.top <= 0:\n",
    "            raise ValueError(\"Stack Underflow\")\n",
    "        self.top -= 1\n",
    "        return self.items[self.top]\n",
    "    \n",
    "    def display(self):\n",
    "        \"\"\"\n",
    "        Prints stack from bottom to top\n",
    "        \"\"\"\n",
    "        temp = self.top\n",
    "        for i in range(0 ,temp):\n",
    "            print(self.items[i])\n",
    "\n",
    "class Queue:\n",
    "    \"\"\"\n",
    "    This one makes dequeuing costly\n",
    "    \"\"\"\n",
    "    # implementation of 2 queues\n",
    "    \n",
    "    def __init__(self, size):\n",
    "        self.s1 = Stack(size)\n",
    "        self.s2 = Stack(size)\n",
    "        self.cache = 0 \n",
    "        self.size = size\n",
    "    \n",
    "    def enqueue(self, data):\n",
    "        self.cache += 1\n",
    "        if self.cache > self.size:\n",
    "            raise ValueError(\"Stack Overflow\")\n",
    "        self.s1.push(data)\n",
    "    \n",
    "    def dequeue(self):\n",
    "        self.cache -= 1\n",
    "        if self.cache < 0:\n",
    "            raise ValueError(\"Stack Underflow\")\n",
    "        \n",
    "        while not self.s1.isEmpty():\n",
    "            self.s2.push(self.s1.pop())\n",
    "        \n",
    "        item = self.s2.pop()\n",
    "        \n",
    "        while not self.s2.isEmpty():\n",
    "            self.s1.push(self.s2.pop())\n",
    "            \n",
    "        return item  \n",
    "    \n",
    "    def display(self):\n",
    "        for i in range(self.cache):\n",
    "            print (self.s1[i])"
   ]
  },
  {
   "cell_type": "markdown",
   "metadata": {},
   "source": [
    "Instead of making dequeue costly, we could choose to make enqueue the costly operation. In terms of time complexity,\n",
    "* cost of dequeuing = O(1)\n",
    "* cost of enqueuing = O(n)"
   ]
  },
  {
   "cell_type": "code",
   "execution_count": null,
   "metadata": {},
   "outputs": [],
   "source": []
  },
  {
   "cell_type": "markdown",
   "metadata": {},
   "source": [
    "## Problem 4"
   ]
  },
  {
   "cell_type": "code",
   "execution_count": 83,
   "metadata": {},
   "outputs": [],
   "source": [
    "import matplotlib\n",
    "\n",
    "LARGE_PRIME = 10888869450418352160768000001"
   ]
  },
  {
   "cell_type": "code",
   "execution_count": null,
   "metadata": {},
   "outputs": [],
   "source": [
    "class Node:\n",
    "    def __init__(self, name = None, dob = None, id_no = None, illness = None, next = None):\n",
    "        self.name = name\n",
    "        self.dob = dob\n",
    "        self.id_no = id_no\n",
    "        self.illness = illness\n",
    "        self.next = None\n",
    "    \n",
    "    def get_name(self):\n",
    "        return self.name\n",
    "    \n",
    "class LinkedList:\n",
    "    def __init__(self):\n",
    "        self.head = None\n",
    "        \n",
    "    def insert(self, data):\n",
    "        new_node = Node(data)\n",
    "        new_node.next = self.head\n",
    "        self.head = new_node\n",
    "    \n",
    "    def display(self):\n",
    "        curr = self.head\n",
    "        index = 0\n",
    "        while curr:\n",
    "            print(\"Index: \", index, \"DOB: \", curr.dob, \"ID: \", curr.id_no, \"Illness\": curr.illness)\n",
    "            index += 1\n",
    "            head = head.next\n",
    "            \n",
    "        "
   ]
  }
 ],
 "metadata": {
  "kernelspec": {
   "display_name": "Python 3",
   "language": "python",
   "name": "python3"
  },
  "language_info": {
   "codemirror_mode": {
    "name": "ipython",
    "version": 3
   },
   "file_extension": ".py",
   "mimetype": "text/x-python",
   "name": "python",
   "nbconvert_exporter": "python",
   "pygments_lexer": "ipython3",
   "version": "3.7.6"
  }
 },
 "nbformat": 4,
 "nbformat_minor": 4
}

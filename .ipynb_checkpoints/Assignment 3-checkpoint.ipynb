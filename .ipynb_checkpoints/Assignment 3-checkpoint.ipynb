{
 "cells": [
  {
   "cell_type": "markdown",
   "metadata": {},
   "source": [
    "# A0149963M \n",
    "## YSC 2229 - Assignment 3 Solutions\n"
   ]
  },
  {
   "cell_type": "markdown",
   "metadata": {},
   "source": [
    "Solutions to the Approximate vertex cover problem"
   ]
  },
  {
   "cell_type": "code",
   "execution_count": 14,
   "metadata": {},
   "outputs": [
    {
     "name": "stdout",
     "output_type": "stream",
     "text": [
      "bob\n",
      "kim\n"
     ]
    }
   ],
   "source": [
    "class Node:\n",
    "    def __init__(self, name= None, next = None):\n",
    "        self.name = name\n",
    "        self.next = None\n",
    "    \n",
    "    def get_name(self):\n",
    "        return self.name\n",
    "    \n",
    "class LinkedList:\n",
    "    def __init__(self):\n",
    "        self.head = None\n",
    "        \n",
    "    def insert(self, data):\n",
    "        new_node = Node(data)\n",
    "        new_node.next = self.head\n",
    "        self.head = new_node\n",
    "    \n",
    "    def display(self):\n",
    "        head = self.head\n",
    "        while head:\n",
    "            print(head.name)\n",
    "            head = head.next\n",
    "        \n",
    "\n",
    "        \n",
    "        \n",
    "def approx_vertex_cover(graph):\n",
    "    out = []\n",
    "    pass"
   ]
  },
  {
   "cell_type": "markdown",
   "metadata": {},
   "source": [
    "Solution to Problem 2 - assume all letters are small letters. \n",
    "\n",
    "Unicode 'a' is 97. Can we shift all these to the left?"
   ]
  },
  {
   "cell_type": "code",
   "execution_count": 13,
   "metadata": {},
   "outputs": [
    {
     "name": "stdout",
     "output_type": "stream",
     "text": [
      "['umbrella', 'rain', 'dog', 'digit', 'cat']\n"
     ]
    }
   ],
   "source": [
    "def count_sort_letters(array, size, col, base, max_len):\n",
    "    \"\"\" Helper routine for performing a count sort based upon column col \"\"\"\n",
    "    output   = [0] * size \n",
    "    count    = [0] * base\n",
    "    min_base = ord('a') \n",
    "\n",
    "    for item in array: \n",
    "    \n",
    "        letter = ord(item[col]) - min_base if col < len(item) else 0 \n",
    "        count[letter] += 1 \n",
    "\n",
    "    for i in range(len(count)-1):   \n",
    "        count[i + 1] += count[i] \n",
    "\n",
    "    for item in array:\n",
    "    \n",
    "        letter = ord(item[col]) - min_base if col < len(item) else 0\n",
    "        output[len(output) - count[letter]] = item\n",
    "        count[letter] -= 1\n",
    "    return output\n",
    "\n",
    "def radix_sort_letters(array):\n",
    "    \"\"\" Main sorting routine \"\"\"\n",
    "    max_col = len(max(array, key = len)) \n",
    "    for col in range(max_col-1, -1, -1): \n",
    "        array = count_sort_letters(array, len(array), col, 26, max_col)\n",
    "    return array\n",
    "\n",
    "print(radix_sort_letters([\"dog\", \"cat\", \"rain\", \"umbrella\", \"digit\"]))"
   ]
  },
  {
   "cell_type": "code",
   "execution_count": 3,
   "metadata": {},
   "outputs": [
    {
     "data": {
      "text/plain": [
       "97"
      ]
     },
     "execution_count": 3,
     "metadata": {},
     "output_type": "execute_result"
    }
   ],
   "source": [
    "ord('a')"
   ]
  },
  {
   "cell_type": "markdown",
   "metadata": {},
   "source": [
    "Solution to Problem 3"
   ]
  },
  {
   "cell_type": "code",
   "execution_count": null,
   "metadata": {},
   "outputs": [],
   "source": [
    "class Stack:\n",
    "    def __init__(self, size):\n",
    "        self.items = []\n",
    "        self.size = size\n",
    "        self.cache = 0\n",
    "    \n",
    "    def isEmpty(self):\n",
    "        return self.items == []\n",
    "\n",
    "    def push(self, item):\n",
    "        self.cache += 1\n",
    "        if self.cache > self.size:\n",
    "            raise ValueError(\"overflow\")        \n",
    "        self.items.append(item)\n",
    "    \n",
    "    def pop(self):\n",
    "        self.cache -= 1    \n",
    "        if self.cache < 0:\n",
    "            raise ValueError(\"underflow\")   \n",
    "        self.items.pop()\n",
    "    \n",
    "    def size(self):\n",
    "        return self.size\n",
    "    \n",
    "    def cache(self):\n",
    "        return self.cache\n",
    "    \n",
    "class Queue:\n",
    "    # implementation of 2 queues\n",
    "    \n",
    "    def __init__(self, size):\n",
    "        pass\n",
    "        "
   ]
  },
  {
   "cell_type": "code",
   "execution_count": null,
   "metadata": {},
   "outputs": [],
   "source": []
  },
  {
   "cell_type": "markdown",
   "metadata": {},
   "source": [
    "Solution to problem 4"
   ]
  },
  {
   "cell_type": "code",
   "execution_count": 2,
   "metadata": {},
   "outputs": [],
   "source": [
    "import matplotlib"
   ]
  },
  {
   "cell_type": "code",
   "execution_count": null,
   "metadata": {},
   "outputs": [],
   "source": []
  }
 ],
 "metadata": {
  "kernelspec": {
   "display_name": "Python 3",
   "language": "python",
   "name": "python3"
  },
  "language_info": {
   "codemirror_mode": {
    "name": "ipython",
    "version": 3
   },
   "file_extension": ".py",
   "mimetype": "text/x-python",
   "name": "python",
   "nbconvert_exporter": "python",
   "pygments_lexer": "ipython3",
   "version": "3.7.6"
  }
 },
 "nbformat": 4,
 "nbformat_minor": 4
}

{
 "cells": [
  {
   "cell_type": "markdown",
   "metadata": {},
   "source": [
    "# A0149963M\n",
    "## Assignment 4\n",
    "## YSC2229 - Introductory Data Structures and Algorithms"
   ]
  },
  {
   "cell_type": "markdown",
   "metadata": {},
   "source": [
    "Solution for Problem 1 - Runway Scheduling System\n",
    "\n",
    "**1(a) - Store an approved/valid request in O(log n), where the stored information includes: aircraft ID (with format \"AA123456\") and take-off time**\n",
    "\n",
    "This question has many parts. For now, I wil define the following:"
   ]
  },
  {
   "cell_type": "code",
   "execution_count": 7,
   "metadata": {},
   "outputs": [],
   "source": [
    "Red = 'Red'\n",
    "Black = 'Black'"
   ]
  },
  {
   "cell_type": "code",
   "execution_count": 29,
   "metadata": {},
   "outputs": [],
   "source": [
    "class RBNode:\n",
    "    def __init__(self, id_no = None, time = None):\n",
    "        self.time = time\n",
    "        self.id_no = id_no\n",
    "        self.left = None\n",
    "        self.right = None\n",
    "        self.p = None\n",
    "        self.co1 = Red\n",
    "        \n",
    "\n",
    "class RBTree:\n",
    "    def __init__(self):\n",
    "        nil_node = RBNode()\n",
    "        nil_node.col = Black\n",
    "        self.NIL = nil_node\n",
    "        self.root = self.NIL\n",
    "    \n",
    "    \n",
    "    def left_rotate(self, x):\n",
    "        y = x.right\n",
    "        x.right = y.left\n",
    "        if y.left != self.NIL:\n",
    "            y.left.p = x\n",
    "        y.p = x.p\n",
    "        if x.p == self.NIL:\n",
    "            self.root = y\n",
    "        elif x == x.p.left:\n",
    "            x.p.left = y\n",
    "        else: \n",
    "            x.p.right = y\n",
    "        y.left = x \n",
    "        x.p = y\n",
    "    \n",
    "    def right_rotate(self, x):\n",
    "        y = x.left\n",
    "        x.left = y.right\n",
    "        if y.right != self.NIL:\n",
    "            y.right.p = x\n",
    "        y.p = x.p\n",
    "        if x.parent == self.NIL: \n",
    "            self.root = y\n",
    "        elif x == x.p.right: \n",
    "            x.p.right = y\n",
    "        else: \n",
    "            x.p.left = y\n",
    "        y.right = x\n",
    "        x.p = y\n",
    "\n",
    "    \n",
    "    def rb_insert(self, new_id, new_time):\n",
    "        z = RBNode(new_id, new_time)\n",
    "        y = self.NIL\n",
    "        x = self.root\n",
    "        while x != self.NIL:\n",
    "            y = x\n",
    "            if z.time < x.time:\n",
    "                x = x.left\n",
    "            else:\n",
    "                x = x.right\n",
    "        z.p = y\n",
    "        if y == self.NIL:\n",
    "            self.root = z\n",
    "        elif z.id_no < y.id_no:\n",
    "            y.left = z\n",
    "        else: \n",
    "            y.right = z \n",
    "        z.left = self.NIL\n",
    "        z.right = self.NIL\n",
    "        z.col = Red\n",
    "        self.rb_insert_fixup(z)\n",
    "    \n",
    "    def rb_insert_fixup(self, z):\n",
    "        while z.p.col == Red:\n",
    "            \n",
    "            if z.p == z.p.p.left:\n",
    "                y = z.p.p.right\n",
    "                \n",
    "                if y.col == Red:\n",
    "                    z.p.col = Black\n",
    "                    y.col = Black\n",
    "                    z.p.p.col = Red\n",
    "                    z = z.p.p\n",
    "                \n",
    "                else:\n",
    "                    if z == z.p.right:\n",
    "                        z = z.p\n",
    "                        self.left_rotate(z)\n",
    "                    \n",
    "                    z.p.col = Black\n",
    "                    z.p.p.col = Red\n",
    "                    self.right_rotate(z.p.p)\n",
    "            \n",
    "            else:\n",
    "                y = z.p.p.left\n",
    "                \n",
    "                if y.col == Red:\n",
    "                    z.p.col = Black\n",
    "                    y.col = Black\n",
    "                    z.p.p.col = Red\n",
    "                    z = z.p.p\n",
    "                \n",
    "                else:\n",
    "                    if z == z.p.left:\n",
    "                        z = z.p\n",
    "                        self.right_rotate(z)\n",
    "                    \n",
    "                    z.p.col = Black\n",
    "                    z.p.p.col = Red\n",
    "                    self.left_rotate(z.p.p)\n",
    "                    \n",
    "    \n",
    "    def inorder(self, n):\n",
    "        if n != self.NIL:\n",
    "            self.inorder(n.left)\n",
    "            print(n.time)\n",
    "            print(n.id_no)\n",
    "            self.inorder(n.right)"
   ]
  },
  {
   "cell_type": "code",
   "execution_count": 34,
   "metadata": {},
   "outputs": [
    {
     "ename": "AttributeError",
     "evalue": "'NoneType' object has no attribute 'col'",
     "output_type": "error",
     "traceback": [
      "\u001b[1;31m---------------------------------------------------------------------------\u001b[0m",
      "\u001b[1;31mAttributeError\u001b[0m                            Traceback (most recent call last)",
      "\u001b[1;32m<ipython-input-34-edb7e03bbb65>\u001b[0m in \u001b[0;36m<module>\u001b[1;34m\u001b[0m\n\u001b[0;32m      1\u001b[0m \u001b[0ms\u001b[0m \u001b[1;33m=\u001b[0m \u001b[0mRBTree\u001b[0m\u001b[1;33m(\u001b[0m\u001b[1;33m)\u001b[0m\u001b[1;33m\u001b[0m\u001b[1;33m\u001b[0m\u001b[0m\n\u001b[0;32m      2\u001b[0m \u001b[0ms\u001b[0m\u001b[1;33m.\u001b[0m\u001b[0mrb_insert\u001b[0m\u001b[1;33m(\u001b[0m\u001b[1;34m\"AR123123\"\u001b[0m\u001b[1;33m,\u001b[0m \u001b[1;36m50\u001b[0m\u001b[1;33m)\u001b[0m\u001b[1;33m\u001b[0m\u001b[1;33m\u001b[0m\u001b[0m\n\u001b[1;32m----> 3\u001b[1;33m \u001b[0ms\u001b[0m\u001b[1;33m.\u001b[0m\u001b[0mrb_insert\u001b[0m\u001b[1;33m(\u001b[0m\u001b[1;34m\"AB123982\"\u001b[0m\u001b[1;33m,\u001b[0m \u001b[1;36m10\u001b[0m\u001b[1;33m)\u001b[0m\u001b[1;33m\u001b[0m\u001b[1;33m\u001b[0m\u001b[0m\n\u001b[0m\u001b[0;32m      4\u001b[0m \u001b[0ms\u001b[0m\u001b[1;33m.\u001b[0m\u001b[0minorder\u001b[0m\u001b[1;33m(\u001b[0m\u001b[0ms\u001b[0m\u001b[1;33m.\u001b[0m\u001b[0mroot\u001b[0m\u001b[1;33m)\u001b[0m\u001b[1;33m\u001b[0m\u001b[1;33m\u001b[0m\u001b[0m\n",
      "\u001b[1;32m<ipython-input-29-6ffd1b9f85db>\u001b[0m in \u001b[0;36mrb_insert\u001b[1;34m(self, new_id, new_time)\u001b[0m\n\u001b[0;32m     68\u001b[0m         \u001b[0mz\u001b[0m\u001b[1;33m.\u001b[0m\u001b[0mright\u001b[0m \u001b[1;33m=\u001b[0m \u001b[0mself\u001b[0m\u001b[1;33m.\u001b[0m\u001b[0mNIL\u001b[0m\u001b[1;33m\u001b[0m\u001b[1;33m\u001b[0m\u001b[0m\n\u001b[0;32m     69\u001b[0m         \u001b[0mz\u001b[0m\u001b[1;33m.\u001b[0m\u001b[0mcol\u001b[0m \u001b[1;33m=\u001b[0m \u001b[0mRed\u001b[0m\u001b[1;33m\u001b[0m\u001b[1;33m\u001b[0m\u001b[0m\n\u001b[1;32m---> 70\u001b[1;33m         \u001b[0mself\u001b[0m\u001b[1;33m.\u001b[0m\u001b[0mrb_insert_fixup\u001b[0m\u001b[1;33m(\u001b[0m\u001b[0mz\u001b[0m\u001b[1;33m)\u001b[0m\u001b[1;33m\u001b[0m\u001b[1;33m\u001b[0m\u001b[0m\n\u001b[0m\u001b[0;32m     71\u001b[0m \u001b[1;33m\u001b[0m\u001b[0m\n\u001b[0;32m     72\u001b[0m     \u001b[1;32mdef\u001b[0m \u001b[0mrb_insert_fixup\u001b[0m\u001b[1;33m(\u001b[0m\u001b[0mself\u001b[0m\u001b[1;33m,\u001b[0m \u001b[0mz\u001b[0m\u001b[1;33m)\u001b[0m\u001b[1;33m:\u001b[0m\u001b[1;33m\u001b[0m\u001b[1;33m\u001b[0m\u001b[0m\n",
      "\u001b[1;32m<ipython-input-29-6ffd1b9f85db>\u001b[0m in \u001b[0;36mrb_insert_fixup\u001b[1;34m(self, z)\u001b[0m\n\u001b[0;32m     94\u001b[0m                 \u001b[0my\u001b[0m \u001b[1;33m=\u001b[0m \u001b[0mz\u001b[0m\u001b[1;33m.\u001b[0m\u001b[0mp\u001b[0m\u001b[1;33m.\u001b[0m\u001b[0mp\u001b[0m\u001b[1;33m.\u001b[0m\u001b[0mleft\u001b[0m\u001b[1;33m\u001b[0m\u001b[1;33m\u001b[0m\u001b[0m\n\u001b[0;32m     95\u001b[0m \u001b[1;33m\u001b[0m\u001b[0m\n\u001b[1;32m---> 96\u001b[1;33m                 \u001b[1;32mif\u001b[0m \u001b[0my\u001b[0m\u001b[1;33m.\u001b[0m\u001b[0mcol\u001b[0m \u001b[1;33m==\u001b[0m \u001b[0mRed\u001b[0m\u001b[1;33m:\u001b[0m\u001b[1;33m\u001b[0m\u001b[1;33m\u001b[0m\u001b[0m\n\u001b[0m\u001b[0;32m     97\u001b[0m                     \u001b[0mz\u001b[0m\u001b[1;33m.\u001b[0m\u001b[0mp\u001b[0m\u001b[1;33m.\u001b[0m\u001b[0mcol\u001b[0m \u001b[1;33m=\u001b[0m \u001b[0mBlack\u001b[0m\u001b[1;33m\u001b[0m\u001b[1;33m\u001b[0m\u001b[0m\n\u001b[0;32m     98\u001b[0m                     \u001b[0my\u001b[0m\u001b[1;33m.\u001b[0m\u001b[0mcol\u001b[0m \u001b[1;33m=\u001b[0m \u001b[0mBlack\u001b[0m\u001b[1;33m\u001b[0m\u001b[1;33m\u001b[0m\u001b[0m\n",
      "\u001b[1;31mAttributeError\u001b[0m: 'NoneType' object has no attribute 'col'"
     ]
    }
   ],
   "source": [
    "s = RBTree()\n",
    "s.rb_insert(\"AR123123\", 50)\n",
    "s.rb_insert(\"AB123982\", 10)\n",
    "s.inorder(s.root)"
   ]
  },
  {
   "cell_type": "markdown",
   "metadata": {},
   "source": [
    "Solution for Problem 2 - Belief Propogation"
   ]
  },
  {
   "cell_type": "code",
   "execution_count": null,
   "metadata": {},
   "outputs": [],
   "source": []
  },
  {
   "cell_type": "markdown",
   "metadata": {},
   "source": [
    "Solution for Problem 3 - Huffman Code"
   ]
  },
  {
   "cell_type": "code",
   "execution_count": null,
   "metadata": {},
   "outputs": [],
   "source": []
  },
  {
   "cell_type": "markdown",
   "metadata": {},
   "source": [
    "Solution for Problem 4 - Maximum Flow/ Minimum Cut Problem"
   ]
  },
  {
   "cell_type": "code",
   "execution_count": null,
   "metadata": {},
   "outputs": [],
   "source": []
  }
 ],
 "metadata": {
  "kernelspec": {
   "display_name": "Python 3",
   "language": "python",
   "name": "python3"
  },
  "language_info": {
   "codemirror_mode": {
    "name": "ipython",
    "version": 3
   },
   "file_extension": ".py",
   "mimetype": "text/x-python",
   "name": "python",
   "nbconvert_exporter": "python",
   "pygments_lexer": "ipython3",
   "version": "3.7.6"
  }
 },
 "nbformat": 4,
 "nbformat_minor": 4
}

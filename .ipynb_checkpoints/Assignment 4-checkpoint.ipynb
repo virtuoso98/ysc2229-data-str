{
 "cells": [
  {
   "cell_type": "markdown",
   "metadata": {},
   "source": [
    "# A0149963M\n",
    "## Assignment 4\n",
    "## YSC2229 - Introductory Data Structures and Algorithms"
   ]
  },
  {
   "cell_type": "markdown",
   "metadata": {},
   "source": [
    "Solution for Problem 1 - Runway Scheduling System\n",
    "\n",
    "**1(a) - Store an approved/valid request in O(log n), where the stored information includes: aircraft ID (with format \"AA123456\") and take-off time**\n",
    "\n",
    "This question has many parts. For now, I wil define the following:"
   ]
  },
  {
   "cell_type": "code",
   "execution_count": 12,
   "metadata": {},
   "outputs": [],
   "source": [
    "Red = 'Red'\n",
    "Black = 'Black'"
   ]
  },
  {
   "cell_type": "code",
   "execution_count": 80,
   "metadata": {},
   "outputs": [],
   "source": [
    "class RBNode():\n",
    "    def __init__(self, id_no = None, time = None):\n",
    "        self.time = time\n",
    "        self.id_no = id_no\n",
    "        self.p = None\n",
    "        self.left = None\n",
    "        self.right = None\n",
    "        self.col = Red "
   ]
  },
  {
   "cell_type": "code",
   "execution_count": 78,
   "metadata": {},
   "outputs": [],
   "source": [
    "class RedBlackTree():\n",
    "    def __init__(self):\n",
    "        self.NIL = RBNode()\n",
    "        self.NIL.col = Black\n",
    "        self.NIL.left = None\n",
    "        self.NIL.right = None\n",
    "        self.root = self.NIL\n",
    "    \n",
    "    def left_rotate(self, x):\n",
    "        y = x.right\n",
    "        x.right = y.left\n",
    "        if y.left != self.NIL:\n",
    "            y.left.p = x\n",
    "        \n",
    "        y.p = x.p\n",
    "        if x.p == self.NIL:\n",
    "            self.root = y\n",
    "        elif x == x.p.left:\n",
    "            x.p.left = y\n",
    "        else:\n",
    "            x.p.right = y\n",
    "        y.left = x\n",
    "        x.p = y\n",
    "    \n",
    "    def right_rotate(self, x):\n",
    "        y = x.left\n",
    "        x.left = y.right\n",
    "        if y.right != self.NIL:\n",
    "            y.right.p = x\n",
    "        \n",
    "        y.p = x.p\n",
    "        if x.p == self.NIL:\n",
    "            self.root = y\n",
    "        elif x == x.p.right:\n",
    "            x.p.right = y\n",
    "        else: \n",
    "            x.p.left = y\n",
    "        y.right = x\n",
    "        x.p = y\n",
    "    \n",
    "        \n",
    "    def fix_insert(self, z):\n",
    "        while z.p.col == Red:\n",
    "            if z.p == z.p.p.left:\n",
    "                y = z.p.p.right\n",
    "                if y.col == Red:\n",
    "                    z.p.col = Black\n",
    "                    y.col = Black\n",
    "                    z.p.p.col = Red\n",
    "                    z = z.p.p\n",
    "                else:\n",
    "                    if z == z.p.right:\n",
    "                        z = z.p\n",
    "                        self.left_rotate(z)\n",
    "                    z.p.col = Black\n",
    "                    z.p.p.col = Red\n",
    "                    self.right_rotate(z.p.p)\n",
    "            else:\n",
    "                y = z.p.p.left\n",
    "                if y.col == Red:\n",
    "                    z.p.col = Black\n",
    "                    y.col = Black\n",
    "                    z.p.p.col = Red\n",
    "                    z = z.p.p\n",
    "                else:\n",
    "                    if z == z.p.left:\n",
    "                        z = z.p\n",
    "                        self.right_rotate(z)\n",
    "                    z.p.col = Black\n",
    "                    z.p.p.col = Red\n",
    "                    self.left_rotate(z.p.p)\n",
    "        self.root.col = Black\n",
    "        \n",
    "        \n",
    "    def insert(self, id_key, time_key):\n",
    "        z = RBNode(id_key, time_key)\n",
    "        \n",
    "        y = self.NIL\n",
    "        x = self.root\n",
    "        \n",
    "        while x != self.NIL:\n",
    "            y = x\n",
    "            if z.time < x.time:\n",
    "                x = x.left\n",
    "            else: \n",
    "                x = x.right\n",
    "            \n",
    "        z.p = y\n",
    "        if y == self.NIL:\n",
    "            self.root = z\n",
    "        elif z.time < y.time:\n",
    "            y.left = z\n",
    "        else: \n",
    "            y.right = z\n",
    "        \n",
    "        z.left = self.NIL\n",
    "        z.right = self.NIL\n",
    "        z.col = Red\n",
    "        \n",
    "        self.fix_insert(z)\n",
    "        \n",
    "        \n",
    "    def find_min(self):\n",
    "        node = self.root\n",
    "        while node.left != self.NIL:\n",
    "            node = node.left\n",
    "        print(\"Minimum time is:\", node.time)\n",
    "        print(\"Corresponding ID number is:\", node.id_no, \"\\n\")\n",
    "    \n",
    "    def find_max(self):\n",
    "        node = self.root\n",
    "        while node.right != self.NIL:\n",
    "            node = node.right\n",
    "        print(\"Maximum time is:\", node.time)\n",
    "        print(\"Corresponding ID number is:\", node.id_no, \"\\n\")\n",
    "    \n",
    "    def print_node(self, x):\n",
    "        print(\"ID: \", x.id_no, \", Time: \", x.time)\n",
    "        \n",
    "    \n",
    "    def inorder(self, node):\n",
    "        if node != self.NIL:\n",
    "            self.inorder(node.left)\n",
    "            self.print_node(node)\n",
    "            self.inorder(node.right)"
   ]
  },
  {
   "cell_type": "markdown",
   "metadata": {},
   "source": [
    "Testing functions"
   ]
  },
  {
   "cell_type": "code",
   "execution_count": 112,
   "metadata": {},
   "outputs": [
    {
     "name": "stdout",
     "output_type": "stream",
     "text": [
      "Minimum time is: AE123973\n",
      "Corresponding ID number is: 10 \n",
      "\n",
      "Maximum time is: AS239183\n",
      "Corresponding ID number is: 40 \n",
      "\n",
      "ID:  10 , Time:  AE123973\n",
      "ID:  45 , Time:  AR190237\n",
      "ID:  30 , Time:  AR812731\n",
      "ID:  90 , Time:  AS123984\n",
      "ID:  40 , Time:  AS239183\n"
     ]
    }
   ],
   "source": [
    "t = RedBlackTree()\n",
    "t.insert(45, \"AR190237\")\n",
    "t.insert(90, \"AS123984\")\n",
    "t.insert(10, \"AE123973\")\n",
    "t.insert(30, \"AR812731\")\n",
    "t.insert(40, \"AS239183\")\n",
    "\n",
    "t.find_min()\n",
    "t.find_max()\n",
    "\n",
    "t.inorder(t.root)"
   ]
  },
  {
   "cell_type": "markdown",
   "metadata": {},
   "source": [
    "Solution for Problem 2 - Belief Propogation"
   ]
  },
  {
   "cell_type": "code",
   "execution_count": null,
   "metadata": {},
   "outputs": [],
   "source": []
  },
  {
   "cell_type": "markdown",
   "metadata": {},
   "source": [
    "Solution for Problem 3 - Huffman Code"
   ]
  },
  {
   "cell_type": "code",
   "execution_count": 150,
   "metadata": {},
   "outputs": [],
   "source": [
    "class Queue:\n",
    "    def __init__(self, size):\n",
    "        self.items = [None for i in range(size)]\n",
    "        self.tail = 0\n",
    "        self.head = 0\n",
    "        self.cache = 0\n",
    "        self.size = size\n",
    "    \n",
    "    def enqueue(self, data):\n",
    "        self.cache += 1\n",
    "        if self.cache > self.size:\n",
    "            print(\"overflow\")\n",
    "            return\n",
    "        self.items[self.tail] = data\n",
    "        self.tail = (self.tail + 1) % self.size\n",
    "        \n",
    "        \n",
    "    def dequeue(self):\n",
    "        self.cache -= 1\n",
    "        if self.cache < self.size:\n",
    "            print(\"underflow\")\n",
    "            return\n",
    "        data = self.items[self.head]\n",
    "        self.head = (self.head + 1) % self.size\n",
    "        return data\n",
    "    "
   ]
  },
  {
   "cell_type": "code",
   "execution_count": 117,
   "metadata": {},
   "outputs": [
    {
     "name": "stdout",
     "output_type": "stream",
     "text": [
      "underflow\n"
     ]
    }
   ],
   "source": []
  },
  {
   "cell_type": "code",
   "execution_count": 153,
   "metadata": {},
   "outputs": [],
   "source": [
    "def char_count(s):\n",
    "    seen = {}\n",
    "    for c in s:\n",
    "        if c not in seen:\n",
    "            seen[c] = 1\n",
    "        else:\n",
    "            seen[c] += 1\n",
    "    return seen\n",
    "\n",
    "\n",
    "def huffman_code(arr):\n",
    "    \"\"\"\n",
    "    arr - array of sentences\n",
    "    \"\"\"\n",
    "    for sentence in arr:\n",
    "        temp = char_count(sentence)\n",
    "        arr = []\n",
    "        for char, freq in temp.items():\n",
    "            arr.append((char, freq))\n",
    "        \n",
    "        # sort in ascending order \n",
    "        arr.sort(key=lambda tup: tup[1])\n",
    "        print(arr)\n",
    "        \n",
    "        q = Queue(len(arr))\n",
    "        \n",
    "        for pair in arr:\n",
    "            q.enqueue(pair)\n",
    "\n",
    "        \n"
   ]
  },
  {
   "cell_type": "code",
   "execution_count": 154,
   "metadata": {},
   "outputs": [
    {
     "name": "stdout",
     "output_type": "stream",
     "text": [
      "[('/', 1), ('3', 1), ('2', 1), ('1', 1), ('z', 1), ('x', 1), ('.', 4), ('j', 5), ('h', 7), ('y', 8), ('8', 10), ('9', 10)]\n",
      "overflow\n"
     ]
    }
   ],
   "source": [
    "huffman_code([\"88888888889999999999yyyyyyyyhhhhhhhjjjjj..../321zx\"])"
   ]
  },
  {
   "cell_type": "code",
   "execution_count": null,
   "metadata": {},
   "outputs": [],
   "source": []
  },
  {
   "cell_type": "markdown",
   "metadata": {},
   "source": [
    "Solution for Problem 4 - Maximum Flow/ Minimum Cut Problem"
   ]
  },
  {
   "cell_type": "code",
   "execution_count": null,
   "metadata": {},
   "outputs": [],
   "source": []
  }
 ],
 "metadata": {
  "kernelspec": {
   "display_name": "Python 3",
   "language": "python",
   "name": "python3"
  },
  "language_info": {
   "codemirror_mode": {
    "name": "ipython",
    "version": 3
   },
   "file_extension": ".py",
   "mimetype": "text/x-python",
   "name": "python",
   "nbconvert_exporter": "python",
   "pygments_lexer": "ipython3",
   "version": "3.8.5"
  }
 },
 "nbformat": 4,
 "nbformat_minor": 4
}

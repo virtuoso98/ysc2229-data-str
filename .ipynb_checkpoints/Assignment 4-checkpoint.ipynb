{
 "cells": [
  {
   "cell_type": "markdown",
   "metadata": {},
   "source": [
    "# A0149963M\n",
    "## Assignment 4\n",
    "## YSC2229 - Introductory Data Structures and Algorithms"
   ]
  },
  {
   "cell_type": "markdown",
   "metadata": {},
   "source": [
    "Solution for Problem 1 - Runway Scheduling System\n",
    "\n",
    "**1(a) - Store an approved/valid request in O(log n), where the stored information includes: aircraft ID (with format \"AA123456\") and take-off time**\n",
    "\n",
    "This question has many parts. For now, I wil define the following:"
   ]
  },
  {
   "cell_type": "code",
   "execution_count": null,
   "metadata": {},
   "outputs": [],
   "source": [
    "class RedBlackNode:\n",
    "    def __init__(self, data):\n",
    "        self.data = data \n",
    "        self.left = None\n",
    "        self.right = None\n",
    "        self.parent = None\n",
    "        self.co1 = \"red\"\n",
    "        \n",
    "class RedBlackTree:\n",
    "    def __init__(self):\n",
    "        self.TNULL = Node(0)\n",
    "        self.TNULL.color = 0\n",
    "        self.TNULL.left = None\n",
    "        self.TNULL.right = None\n",
    "        self.root = self.TNULL\n",
    "        \n",
    "        \n",
    "class Request:\n",
    "    def __init__(self, id_no, time):\n",
    "        self.id_no = id_no\n",
    "        self.time = time\n"
   ]
  },
  {
   "cell_type": "markdown",
   "metadata": {},
   "source": [
    "Solution for Problem 2 - Belief Propogation"
   ]
  },
  {
   "cell_type": "code",
   "execution_count": null,
   "metadata": {},
   "outputs": [],
   "source": []
  },
  {
   "cell_type": "markdown",
   "metadata": {},
   "source": [
    "Solution for Problem 3 - Huffman Code"
   ]
  },
  {
   "cell_type": "code",
   "execution_count": null,
   "metadata": {},
   "outputs": [],
   "source": []
  },
  {
   "cell_type": "markdown",
   "metadata": {},
   "source": [
    "Solution for Problem 4 - Maximum Flow/ Minimum Cut Problem"
   ]
  },
  {
   "cell_type": "code",
   "execution_count": null,
   "metadata": {},
   "outputs": [],
   "source": []
  }
 ],
 "metadata": {
  "kernelspec": {
   "display_name": "Python 3",
   "language": "python",
   "name": "python3"
  },
  "language_info": {
   "codemirror_mode": {
    "name": "ipython",
    "version": 3
   },
   "file_extension": ".py",
   "mimetype": "text/x-python",
   "name": "python",
   "nbconvert_exporter": "python",
   "pygments_lexer": "ipython3",
   "version": "3.8.5"
  }
 },
 "nbformat": 4,
 "nbformat_minor": 4
}

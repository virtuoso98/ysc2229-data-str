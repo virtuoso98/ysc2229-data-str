{
 "cells": [
  {
   "cell_type": "markdown",
   "metadata": {},
   "source": [
    "# A0149963M\n",
    "## Assignment 4\n",
    "## YSC2229 - Introductory Data Structures and Algorithms"
   ]
  },
  {
   "cell_type": "markdown",
   "metadata": {},
   "source": [
    "Solution for Problem 1 - Runway Scheduling System\n",
    "\n",
    "**1(a) - Store an approved/valid request in O(log n), where the stored information includes: aircraft ID (with format \"AA123456\") and take-off time**\n",
    "\n",
    "This question has many parts. For now, I wil define the following:"
   ]
  },
  {
   "cell_type": "code",
   "execution_count": 1,
   "metadata": {},
   "outputs": [],
   "source": [
    "Red = 'Red'\n",
    "Black = 'Black'"
   ]
  },
  {
   "cell_type": "code",
   "execution_count": 10,
   "metadata": {},
   "outputs": [],
   "source": [
    "class RBNode():\n",
    "    def __init__(self, id_no = None, time = None):\n",
    "        self.time = time\n",
    "        self.id_no = id_no\n",
    "        self.p = None\n",
    "        self.left = None\n",
    "        self.right = None\n",
    "        self.col = Red "
   ]
  },
  {
   "cell_type": "code",
   "execution_count": 11,
   "metadata": {},
   "outputs": [
    {
     "name": "stdout",
     "output_type": "stream",
     "text": [
      "50\n",
      "AR123123\n"
     ]
    },
    {
     "ename": "AttributeError",
     "evalue": "'NoneType' object has no attribute 'col'",
     "output_type": "error",
     "traceback": [
      "\u001b[1;31m---------------------------------------------------------------------------\u001b[0m",
      "\u001b[1;31mAttributeError\u001b[0m                            Traceback (most recent call last)",
      "\u001b[1;32m<ipython-input-11-bc1c6a36fa04>\u001b[0m in \u001b[0;36m<module>\u001b[1;34m\u001b[0m\n\u001b[0;32m      2\u001b[0m \u001b[0ms\u001b[0m\u001b[1;33m.\u001b[0m\u001b[0mrb_insert\u001b[0m\u001b[1;33m(\u001b[0m\u001b[1;34m\"AR123123\"\u001b[0m\u001b[1;33m,\u001b[0m \u001b[1;36m50\u001b[0m\u001b[1;33m)\u001b[0m\u001b[1;33m\u001b[0m\u001b[1;33m\u001b[0m\u001b[0m\n\u001b[0;32m      3\u001b[0m \u001b[0ms\u001b[0m\u001b[1;33m.\u001b[0m\u001b[0minorder\u001b[0m\u001b[1;33m(\u001b[0m\u001b[0ms\u001b[0m\u001b[1;33m.\u001b[0m\u001b[0mroot\u001b[0m\u001b[1;33m)\u001b[0m\u001b[1;33m\u001b[0m\u001b[1;33m\u001b[0m\u001b[0m\n\u001b[1;32m----> 4\u001b[1;33m \u001b[0ms\u001b[0m\u001b[1;33m.\u001b[0m\u001b[0mrb_insert\u001b[0m\u001b[1;33m(\u001b[0m\u001b[1;34m\"AB123982\"\u001b[0m\u001b[1;33m,\u001b[0m \u001b[1;36m9\u001b[0m\u001b[1;33m)\u001b[0m\u001b[1;33m\u001b[0m\u001b[1;33m\u001b[0m\u001b[0m\n\u001b[0m",
      "\u001b[1;32m<ipython-input-10-0ba3290f3776>\u001b[0m in \u001b[0;36mrb_insert\u001b[1;34m(self, new_id, new_time)\u001b[0m\n\u001b[0;32m     68\u001b[0m         \u001b[0mz\u001b[0m\u001b[1;33m.\u001b[0m\u001b[0mright\u001b[0m \u001b[1;33m=\u001b[0m \u001b[0mself\u001b[0m\u001b[1;33m.\u001b[0m\u001b[0mNIL\u001b[0m\u001b[1;33m\u001b[0m\u001b[1;33m\u001b[0m\u001b[0m\n\u001b[0;32m     69\u001b[0m         \u001b[0mz\u001b[0m\u001b[1;33m.\u001b[0m\u001b[0mcol\u001b[0m \u001b[1;33m=\u001b[0m \u001b[0mRed\u001b[0m\u001b[1;33m\u001b[0m\u001b[1;33m\u001b[0m\u001b[0m\n\u001b[1;32m---> 70\u001b[1;33m         \u001b[0mself\u001b[0m\u001b[1;33m.\u001b[0m\u001b[0mrb_insert_fixup\u001b[0m\u001b[1;33m(\u001b[0m\u001b[0mz\u001b[0m\u001b[1;33m)\u001b[0m\u001b[1;33m\u001b[0m\u001b[1;33m\u001b[0m\u001b[0m\n\u001b[0m\u001b[0;32m     71\u001b[0m \u001b[1;33m\u001b[0m\u001b[0m\n\u001b[0;32m     72\u001b[0m     \u001b[1;32mdef\u001b[0m \u001b[0mrb_insert_fixup\u001b[0m\u001b[1;33m(\u001b[0m\u001b[0mself\u001b[0m\u001b[1;33m,\u001b[0m \u001b[0mz\u001b[0m\u001b[1;33m)\u001b[0m\u001b[1;33m:\u001b[0m\u001b[1;33m\u001b[0m\u001b[1;33m\u001b[0m\u001b[0m\n",
      "\u001b[1;32m<ipython-input-10-0ba3290f3776>\u001b[0m in \u001b[0;36mrb_insert_fixup\u001b[1;34m(self, z)\u001b[0m\n\u001b[0;32m     94\u001b[0m                 \u001b[0my\u001b[0m \u001b[1;33m=\u001b[0m \u001b[0mz\u001b[0m\u001b[1;33m.\u001b[0m\u001b[0mp\u001b[0m\u001b[1;33m.\u001b[0m\u001b[0mp\u001b[0m\u001b[1;33m.\u001b[0m\u001b[0mleft\u001b[0m\u001b[1;33m\u001b[0m\u001b[1;33m\u001b[0m\u001b[0m\n\u001b[0;32m     95\u001b[0m \u001b[1;33m\u001b[0m\u001b[0m\n\u001b[1;32m---> 96\u001b[1;33m                 \u001b[1;32mif\u001b[0m \u001b[0my\u001b[0m\u001b[1;33m.\u001b[0m\u001b[0mcol\u001b[0m \u001b[1;33m==\u001b[0m \u001b[0mRed\u001b[0m\u001b[1;33m:\u001b[0m\u001b[1;33m\u001b[0m\u001b[1;33m\u001b[0m\u001b[0m\n\u001b[0m\u001b[0;32m     97\u001b[0m                     \u001b[0mz\u001b[0m\u001b[1;33m.\u001b[0m\u001b[0mp\u001b[0m\u001b[1;33m.\u001b[0m\u001b[0mcol\u001b[0m \u001b[1;33m=\u001b[0m \u001b[0mBlack\u001b[0m\u001b[1;33m\u001b[0m\u001b[1;33m\u001b[0m\u001b[0m\n\u001b[0;32m     98\u001b[0m                     \u001b[0my\u001b[0m\u001b[1;33m.\u001b[0m\u001b[0mcol\u001b[0m \u001b[1;33m=\u001b[0m \u001b[0mBlack\u001b[0m\u001b[1;33m\u001b[0m\u001b[1;33m\u001b[0m\u001b[0m\n",
      "\u001b[1;31mAttributeError\u001b[0m: 'NoneType' object has no attribute 'col'"
     ]
    }
   ],
   "source": [
    "class RedBlackTree():\n",
    "    def __init__(self):\n",
    "        self.NIL = RBNode()\n",
    "        self.NIL.col = Black\n",
    "        self.NIL.left = None\n",
    "        self.NIL.right = None\n",
    "        self.root = self.NIL\n",
    "    \n",
    "    def left_rotate(self, x):\n",
    "        y = x.right\n",
    "        x.right = y.left\n",
    "        if y.left != self.NIL:\n",
    "            y.left.p = x\n",
    "        \n",
    "        y.p = x.p\n",
    "        if x.p == None:\n",
    "            self.root = y\n",
    "        elif x == x.p.left:\n",
    "            x.p.left = y\n",
    "        else:\n",
    "            x.p.right = y\n",
    "        y.left = x\n",
    "        x.p = y\n",
    "    \n",
    "    def right_rotate(self, x):\n",
    "        y = x.left\n",
    "        x.left = y.right\n",
    "        if y.right != self.NIL:\n",
    "            y.right.p = x\n",
    "        \n",
    "        y.p = x.p\n",
    "        if x.p == None:\n",
    "            self.root = y\n",
    "        elif x == x.p.right:\n",
    "            x.p.right = y\n",
    "        else: \n",
    "            x.p.left = y\n",
    "        y.right = x\n",
    "        x.p = y\n",
    "    \n",
    "    def insert(self, id_key, time_key):\n",
    "        node = RBNode(id_key, time_key)\n",
    "        node.p = None\n",
    "        node.left = self.NIL\n",
    "        node.right = self.NIL\n",
    "        \n",
    "        y = None\n",
    "        x = self.root\n",
    "        \n",
    "        while x != self.NIL:\n",
    "            y = x\n",
    "            if node.time < x.time:\n",
    "                x = x.left\n",
    "            else: \n",
    "                x = x.right\n",
    "            \n",
    "        node.p = y\n",
    "        if y == None:\n",
    "            self.root = node\n",
    "        elif node.time < y.time:\n",
    "            y.left = node\n",
    "        else: \n",
    "            y.right = node\n",
    "        \n",
    "        if node.p == None:\n",
    "            node.col = Black\n",
    "            return \n",
    "    \n",
    "        if node.p.p == None:\n",
    "            return\n",
    "        \n",
    "        self.fix_insert(node)\n",
    "        \n",
    "    def fix_insert(self, k):\n",
    "        while k.p.col == Red:\n",
    "            if k.p == k.p.p.right:\n",
    "                u = k.p.p.left\n",
    "                if u.col == Red:\n",
    "                    u.col = Black\n",
    "                    k.p.col = Black\n",
    "                    k.p.p.col = Red\n",
    "                    k = k.p.p\n",
    "                else:\n",
    "                    if k == k.p.left:\n",
    "                        k = k.p\n",
    "                        self.right_rotate(k)\n",
    "                    k.p.col = 0\n",
    "                    k.p.p.col = Red\n",
    "                    self.left_rotate(k.p.p)\n",
    "            else:\n",
    "                u = k.p.p.right\n",
    "\n",
    "                if u.col == Red:\n",
    "                    u.col = Black\n",
    "                    k.p.col = Black\n",
    "                    k.p.p.col = Red\n",
    "                    k = k.p.p\n",
    "                else:\n",
    "                    if k == k.p.right:\n",
    "                        k = k.p\n",
    "                        self.left_rotate(k)\n",
    "                    k.p.col = Black\n",
    "                    k.p.p.col = Red\n",
    "                    self.right_rotate(k.p.p)\n",
    "            if k == self.root:\n",
    "                break\n",
    "        self.root.col = Black"
   ]
  },
  {
   "cell_type": "markdown",
   "metadata": {},
   "source": [
    "Solution for Problem 2 - Belief Propogation"
   ]
  },
  {
   "cell_type": "code",
   "execution_count": null,
   "metadata": {},
   "outputs": [],
   "source": []
  },
  {
   "cell_type": "markdown",
   "metadata": {},
   "source": [
    "Solution for Problem 3 - Huffman Code"
   ]
  },
  {
   "cell_type": "code",
   "execution_count": null,
   "metadata": {},
   "outputs": [],
   "source": []
  },
  {
   "cell_type": "markdown",
   "metadata": {},
   "source": [
    "Solution for Problem 4 - Maximum Flow/ Minimum Cut Problem"
   ]
  },
  {
   "cell_type": "code",
   "execution_count": null,
   "metadata": {},
   "outputs": [],
   "source": []
  }
 ],
 "metadata": {
  "kernelspec": {
   "display_name": "Python 3",
   "language": "python",
   "name": "python3"
  },
  "language_info": {
   "codemirror_mode": {
    "name": "ipython",
    "version": 3
   },
   "file_extension": ".py",
   "mimetype": "text/x-python",
   "name": "python",
   "nbconvert_exporter": "python",
   "pygments_lexer": "ipython3",
   "version": "3.8.5"
  }
 },
 "nbformat": 4,
 "nbformat_minor": 4
}

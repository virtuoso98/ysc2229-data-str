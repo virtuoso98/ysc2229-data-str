{
 "cells": [
  {
   "cell_type": "markdown",
   "metadata": {},
   "source": [
    "# A0149963M\n",
    "## Assignment 4\n",
    "## YSC2229 - Introductory Data Structures and Algorithms"
   ]
  },
  {
   "cell_type": "markdown",
   "metadata": {},
   "source": [
    "Solution for Problem 1 - Runway Scheduling System\n",
    "\n",
    "**1(a) - Store an approved/valid request in O(log n), where the stored information includes: aircraft ID (with format \"AA123456\") and take-off time**\n",
    "\n",
    "This question has many parts. For now, I wil define the following:"
   ]
  },
  {
   "cell_type": "code",
   "execution_count": 36,
   "metadata": {},
   "outputs": [],
   "source": [
    "Red = 'Red'\n",
    "Black = 'Black'"
   ]
  },
  {
   "cell_type": "code",
   "execution_count": 37,
   "metadata": {},
   "outputs": [],
   "source": [
    "class RBNode():\n",
    "    def __init__(self, id_no = None, time = None):\n",
    "        self.time = time\n",
    "        self.id_no = id_no\n",
    "        self.p = None\n",
    "        self.left = None\n",
    "        self.right = None\n",
    "        self.col = Red "
   ]
  },
  {
   "cell_type": "code",
   "execution_count": 64,
   "metadata": {},
   "outputs": [],
   "source": [
    "class RedBlackTree():\n",
    "    def __init__(self):\n",
    "        self.NIL = RBNode()\n",
    "        self.NIL.col = Black\n",
    "        self.NIL.left = None\n",
    "        self.NIL.right = None\n",
    "        self.root = self.NIL\n",
    "    \n",
    "    def left_rotate(self, x):\n",
    "        y = x.right\n",
    "        x.right = y.left\n",
    "        if y.left != self.NIL:\n",
    "            y.left.p = x\n",
    "        \n",
    "        y.p = x.p\n",
    "        if x.p == self.NIL:\n",
    "            self.root = y\n",
    "        elif x == x.p.left:\n",
    "            x.p.left = y\n",
    "        else:\n",
    "            x.p.right = y\n",
    "        y.left = x\n",
    "        x.p = y\n",
    "    \n",
    "    def right_rotate(self, x):\n",
    "        y = x.left\n",
    "        x.left = y.right\n",
    "        if y.right != self.NIL:\n",
    "            y.right.p = x\n",
    "        \n",
    "        y.p = x.p\n",
    "        if x.p == self.NIL:\n",
    "            self.root = y\n",
    "        elif x == x.p.right:\n",
    "            x.p.right = y\n",
    "        else: \n",
    "            x.p.left = y\n",
    "        y.right = x\n",
    "        x.p = y\n",
    "    \n",
    "        \n",
    "    def fix_insert(self, z):\n",
    "        while z.p.col == Red:\n",
    "            if z.p == z.p.p.left:\n",
    "                y = z.p.p.right\n",
    "                if y.col == Red:\n",
    "                    z.p.col = Black\n",
    "                    y.col = Black\n",
    "                    z.p.p.col = Red\n",
    "                    z = z.p.p\n",
    "                else:\n",
    "                    if z == z.p.right:\n",
    "                        z = z.p\n",
    "                        self.left_rotate(z)\n",
    "                    z.p.col = Black\n",
    "                    z.p.p.col = Red\n",
    "                    self.right_rotate(z.p.p)\n",
    "            else:\n",
    "                y = z.p.p.left\n",
    "                if y.col == Red:\n",
    "                    z.p.col = Black\n",
    "                    y.col = Black\n",
    "                    z.p.p.col = Red\n",
    "                    z = z.p.p\n",
    "                else:\n",
    "                    if z == z.p.left:\n",
    "                        z = z.p\n",
    "                        self.right_rotate(z)\n",
    "                    z.p.col = Black\n",
    "                    z.p.p.col = Red\n",
    "                    self.left_rotate(z.p.p)\n",
    "            \n",
    "        self.root.col = Black\n",
    "      \n",
    "        \n",
    "    def insert(self, id_key, time_key):\n",
    "        z = RBNode(id_key, time_key)\n",
    "        \n",
    "        y = self.NIL\n",
    "        x = self.root\n",
    "        \n",
    "        while x != self.NIL:\n",
    "            y = x\n",
    "            if z.time < x.time:\n",
    "                x = x.left\n",
    "            else: \n",
    "                x = x.right\n",
    "            \n",
    "        z.p = y\n",
    "        if y == self.NIL:\n",
    "            self.root = z\n",
    "        elif z.time < y.time:\n",
    "            y.left = z\n",
    "        else: \n",
    "            y.right = z\n",
    "        \n",
    "        z.left = self.NIL\n",
    "        z.right = self.NIL\n",
    "        z.col = Red\n",
    "        \n",
    "        self.fix_insert(z)\n",
    "        \n",
    "        \n",
    "    def find_min(self):\n",
    "        node = self.root\n",
    "        while node.left != self.NIL:\n",
    "            node = node.left\n",
    "        print(\"Minimum time is:\", node.time)\n",
    "        print(\"Corresponding ID number is:\", node.id_no, \"\\n\")\n",
    "    \n",
    "    def find_max(self):\n",
    "        node = self.root\n",
    "        while node.right != self.NIL:\n",
    "            node = node.right\n",
    "        print(\"Maximum time is:\", node.time)\n",
    "        print(\"Corresponding ID number is:\", node.id_no, \"\\n\")\n",
    "    \n",
    "    def print_node(self, x):\n",
    "        print(\"ID: \", x.id_no, \", Time: \", x.time)\n",
    "        \n",
    "    \n",
    "    def inorder(self, node):\n",
    "        if node != self.NIL:\n",
    "            self.inorder(node.left)\n",
    "            self.print_node(node)\n",
    "            self.inorder(node.right)\n",
    "    \n",
    "    def search(self):\n",
    "        pass"
   ]
  },
  {
   "cell_type": "code",
   "execution_count": null,
   "metadata": {},
   "outputs": [],
   "source": []
  },
  {
   "cell_type": "markdown",
   "metadata": {},
   "source": [
    "Testing functions"
   ]
  },
  {
   "cell_type": "code",
   "execution_count": 63,
   "metadata": {},
   "outputs": [
    {
     "name": "stdout",
     "output_type": "stream",
     "text": [
      "Minimum time is: 13\n",
      "Corresponding ID number is: AR190237 \n",
      "\n",
      "Maximum time is: 21\n",
      "Corresponding ID number is: AS123984 \n",
      "\n",
      "ID:  AR190237 , Time:  13\n",
      "ID:  AS239183 , Time:  14\n",
      "ID:  AR812731 , Time:  15\n",
      "ID:  AE123973 , Time:  19\n",
      "ID:  AS123984 , Time:  21\n"
     ]
    }
   ],
   "source": [
    "t = RedBlackTree()\n",
    "t.insert(\"AR190237\", 13)\n",
    "t.insert(\"AS123984\", 21)\n",
    "t.insert(\"AE123973\", 19)\n",
    "t.insert(\"AR812731\", 15)\n",
    "t.insert(\"AS239183\", 14)\n",
    "\n",
    "t.find_min()\n",
    "t.find_max()\n",
    "\n",
    "t.inorder(t.root)\n"
   ]
  },
  {
   "cell_type": "markdown",
   "metadata": {},
   "source": [
    "Solution for Problem 2 - Belief Propogation"
   ]
  },
  {
   "cell_type": "code",
   "execution_count": null,
   "metadata": {},
   "outputs": [],
   "source": []
  },
  {
   "cell_type": "markdown",
   "metadata": {},
   "source": [
    "Solution for Problem 3 - Huffman Code\n",
    "\n",
    "page 430, 154"
   ]
  },
  {
   "cell_type": "code",
   "execution_count": 33,
   "metadata": {},
   "outputs": [],
   "source": [
    "import sys\n",
    "\n",
    "class MinPriorityQueue:\n",
    "    def __init__(self, capacity):\n",
    "        self.limit = capacity \n",
    "        self.size = 0\n",
    "        self.Heap = [0] * (capacity + 1)\n",
    "        self.Heap[0] = sys.maxsize * -1 \n",
    "        self.root = 1\n",
    "    \n",
    "    def swap(self, pos1, pos2):\n",
    "        self.Heap[pos1], self.Heap[pos2] = self.Heap[pos2], self.Heap[pos1]\n",
    "        \n",
    "    def parent(self, pos):\n",
    "        return pos // 2\n",
    "    \n",
    "    def left(self, pos):\n",
    "        return pos * 2\n",
    "    \n",
    "    def right(self, pos):\n",
    "        return pos * 2 + 1\n",
    "    \n",
    "    def min_heapify(self, pos):\n",
    "        l = self.left(pos)\n",
    "        r = self.right(pos)\n",
    "        if l <= self.size and self.Heap[l] < self.Heap[pos]:\n",
    "            low = l\n",
    "        else:\n",
    "            low = pos\n",
    "        if r <= self.size and self.Heap[r] < self.Heap[low]:\n",
    "            low = r\n",
    "        if smallest != i:\n",
    "            self.swap(i, low)\n",
    "            self.min_heapify(low)\n",
    "        \n",
    "    def build_min_heap(self):\n",
    "        for i in range(self.size // 2, 0, -1):\n",
    "            self.min_heapify(i)\n",
    "            \n",
    "    def heap_pop(self):\n",
    "        last = self.Heap[self.root]\n",
    "        self.Heap[self.root] = self.Heap[self.size]\n",
    "        self.size -= 1\n",
    "        self.min_heapify(self.root)\n",
    "        return last\n",
    "    \n",
    "    def heap_sort(self):\n",
    "        pass\n",
    "    \n",
    "    def heap_push(self, key):\n",
    "        if self.size >= self.limit:\n",
    "            raise ValueError(\"Heap Overflow\")\n",
    "        self.size += 1\n",
    "        self.Heap[self.size] = key\n",
    "        curr = self.size\n",
    "        while self.Heap[curr] < self.Heap[curr // 2]:\n",
    "            self.swap(curr, curr // 2)\n",
    "            curr = curr //  2\n",
    "    \n",
    "    \n",
    "    \n",
    "    def print_heap(self):\n",
    "        for i in range(1, (self.size // 2) + 1):\n",
    "            print(\" Parent Node is \"+ str(self.Heap[i]) +\n",
    "                  \" Left Child is \" + str(self.Heap[2 * i]) + \n",
    "                  \" Right Child is \"+ str(self.Heap[2 * i + 1]))\n",
    "   "
   ]
  },
  {
   "cell_type": "code",
   "execution_count": 37,
   "metadata": {},
   "outputs": [
    {
     "name": "stdout",
     "output_type": "stream",
     "text": [
      " Parent Node is 4 Left Child is 7 Right Child is 9\n",
      " Parent Node is 7 Left Child is 15 Right Child is 13\n",
      "[-9223372036854775807, 4, 7, 9, 15, 13, 0, 0, 0, 0, 0]\n"
     ]
    }
   ],
   "source": [
    "minHeap = MinHeap(10)\n",
    "minHeap.heap_push(15)\n",
    "minHeap.heap_push(7)\n",
    "minHeap.heap_push(9)\n",
    "minHeap.heap_push(4)\n",
    "minHeap.heap_push(13)\n",
    "minHeap.print_heap()\n",
    "print(minHeap.Heap)"
   ]
  },
  {
   "cell_type": "code",
   "execution_count": 35,
   "metadata": {},
   "outputs": [
    {
     "name": "stdout",
     "output_type": "stream",
     "text": [
      "10\n",
      "9\n",
      "8\n",
      "7\n",
      "6\n",
      "5\n",
      "4\n",
      "3\n",
      "2\n",
      "1\n"
     ]
    }
   ],
   "source": [
    "for i in range(10, 0, -1):\n",
    "    print(i)"
   ]
  },
  {
   "cell_type": "code",
   "execution_count": 62,
   "metadata": {},
   "outputs": [],
   "source": [
    "def char_count(s):\n",
    "    seen = {}\n",
    "    for c in s:\n",
    "        if c not in seen:\n",
    "            seen[c] = 1\n",
    "        else:\n",
    "            seen[c] += 1\n",
    "    return seen\n",
    "\n",
    "\n",
    "def huffman_code(arr):\n",
    "    \"\"\"\n",
    "    arr - array of sentences\n",
    "    \"\"\"\n",
    "    for sentence in arr:\n",
    "        temp = char_count(sentence)\n",
    "        arr = []\n",
    "        for char, freq in temp.items():\n",
    "            arr.append((char, freq))\n",
    "        \n",
    "        # sort in ascending order \n",
    "        arr.sort(key=lambda tup: tup[1])\n",
    "        print(arr)\n",
    "        \n",
    "        q = Queue(len(arr))\n",
    "        \n",
    "        for pair in arr:\n",
    "            q.enqueue(pair)\n",
    "        \n",
    "        aux_q = Queue(len(arr))\n",
    "        \n"
   ]
  },
  {
   "cell_type": "code",
   "execution_count": 61,
   "metadata": {},
   "outputs": [
    {
     "name": "stdout",
     "output_type": "stream",
     "text": [
      "[('/', 1), ('3', 1), ('2', 1), ('1', 1), ('z', 1), ('x', 1), ('.', 4), ('j', 5), ('h', 7), ('y', 8), ('8', 10), ('9', 10)]\n",
      "('/', 1)\n",
      "('3', 1)\n",
      "('2', 1)\n",
      "('1', 1)\n",
      "('z', 1)\n",
      "('x', 1)\n",
      "('.', 4)\n",
      "('j', 5)\n",
      "('h', 7)\n",
      "('y', 8)\n",
      "('8', 10)\n",
      "('9', 10)\n"
     ]
    }
   ],
   "source": [
    "huffman_code([\"88888888889999999999yyyyyyyyhhhhhhhjjjjj..../321zx\"])"
   ]
  },
  {
   "cell_type": "code",
   "execution_count": null,
   "metadata": {},
   "outputs": [],
   "source": []
  },
  {
   "cell_type": "markdown",
   "metadata": {},
   "source": [
    "Solution for Problem 4 - Maximum Flow/ Minimum Cut Problem"
   ]
  },
  {
   "cell_type": "code",
   "execution_count": null,
   "metadata": {},
   "outputs": [],
   "source": []
  }
 ],
 "metadata": {
  "kernelspec": {
   "display_name": "Python 3",
   "language": "python",
   "name": "python3"
  },
  "language_info": {
   "codemirror_mode": {
    "name": "ipython",
    "version": 3
   },
   "file_extension": ".py",
   "mimetype": "text/x-python",
   "name": "python",
   "nbconvert_exporter": "python",
   "pygments_lexer": "ipython3",
   "version": "3.7.6"
  }
 },
 "nbformat": 4,
 "nbformat_minor": 4
}

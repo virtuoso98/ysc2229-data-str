{
 "cells": [
  {
   "cell_type": "code",
   "execution_count": null,
   "metadata": {},
   "outputs": [],
   "source": [
    "# A0149963M \n",
    "# YSC2229 Assignment 2"
   ]
  },
  {
   "cell_type": "code",
   "execution_count": null,
   "metadata": {},
   "outputs": [],
   "source": [
    "# Part(a)"
   ]
  },
  {
   "cell_type": "code",
   "execution_count": 386,
   "metadata": {},
   "outputs": [],
   "source": [
    "def max_subarray_naive(arr, low, high):\n",
    "    \"\"\"\n",
    "    arr - input array\n",
    "    \"\"\"\n",
    "    if low == high:\n",
    "        return(low, high, arr[low])\n",
    "    \n",
    "    maxSum = float('-inf')\n",
    "    \n",
    "    for i in range(len(arr)):\n",
    "        total = 0\n",
    "        for j in range(i, len(arr)):\n",
    "            total += arr[j]\n",
    "            if maxSum < total :\n",
    "                first = i\n",
    "                last = j\n",
    "                maxSum = total\n",
    "                \n",
    "    \n",
    "    return (first, last, maxSum)\n"
   ]
  },
  {
   "cell_type": "code",
   "execution_count": 387,
   "metadata": {},
   "outputs": [],
   "source": [
    "def max_crossing_subarray(arr, low, mid, high):\n",
    "    leftSum = float('-inf')\n",
    "    maxLeft = float('-inf')\n",
    "    total = 0\n",
    "    for i in reversed(range(low, mid + 1)):\n",
    "        total += arr[i]\n",
    "        if total > leftSum:\n",
    "            leftSum = total\n",
    "            maxLeft = i\n",
    "    \n",
    "    rightSum = float('-inf')\n",
    "    maxRight = float('-inf')\n",
    "    total = 0\n",
    "    for j in range(mid + 1, high + 1):\n",
    "        total += arr[j]\n",
    "        if total > rightSum:\n",
    "            rightSum = total\n",
    "            maxRight = j\n",
    "    return (maxLeft, maxRight, max(leftSum, max(rightSum, leftSum + rightSum)))\n",
    "\n",
    "\n",
    "def max_subarray_eff(arr, low, high):\n",
    "    if high == low:\n",
    "        return(low, high, arr[low])\n",
    "    else:\n",
    "        mid = (low + high) // 2\n",
    "        leftLow, leftHigh, leftSum = max_subarray_eff(arr, low, mid)\n",
    "        rightLow, rightHigh, rightSum = max_subarray_eff(arr, mid + 1, high)\n",
    "        crossLow, crossHigh, crossSum = max_crossing_subarray(arr, low, mid, high)\n",
    "        \n",
    "        if leftSum > rightSum and leftSum > crossSum:\n",
    "            return (leftLow, leftHigh, leftSum)\n",
    "        elif rightSum > leftSum and rightSum > crossSum:\n",
    "            return (rightLow, rightHigh, rightSum)\n",
    "        else: \n",
    "            return (crossLow, crossHigh, crossSum)\n",
    "        "
   ]
  },
  {
   "cell_type": "code",
   "execution_count": 417,
   "metadata": {},
   "outputs": [
    {
     "name": "stdout",
     "output_type": "stream",
     "text": [
      "Test failed for:  [-95, 66, -26, 100, -35, -12, 13, -8, -72, 95, -19, 25, -94, 69, 34, 97, 19, 48, -16, -100, 82, -12, -44, -25, -80, -14, 45, -77, -80, 13, -18, 16, 82, -77, 19, -30, 87, 43, 22, -56, 21, 99, -47, 5, 76, 33, -63, 92, 85, -15, 56, -65, -57, -41, -31, -58, 100, -3, -18, -64, -54, -36, -94, 22, -80, -71, 90, 3, -82, -19, 14, -86, -81, 0, 10, 6, 42, 19, 99, 81, 36, 48, -2, -41, 83, 45, 35, -3, 79, -36, -39, 26, -82]\n",
      "efficient algo output:  (74, 88, 537)\n",
      "naive algo output:  (73, 88, 537)\n"
     ]
    },
    {
     "data": {
      "text/plain": [
       "False"
      ]
     },
     "execution_count": 417,
     "metadata": {},
     "output_type": "execute_result"
    }
   ],
   "source": [
    "# testing\n",
    "import random\n",
    "\n",
    "def generate_random_array():\n",
    "    l = random.randint(1, 100)\n",
    "    out = []\n",
    "    for i in range(l):\n",
    "        out.append(random.randint(0,200) - 100)\n",
    "    return out\n",
    "\n",
    "\n",
    "def stress_test(fun1, fun2):\n",
    "    for z in range(0, 1000):\n",
    "        test_arr = generate_random_array()\n",
    "        if fun2(test_arr, 0, len(test_arr) - 1) != fun1(test_arr, 0, len(test_arr) - 1):\n",
    "            print(\"Test failed for: \", test_arr)\n",
    "            print(\"efficient algo output: \", fun2(test_arr, 0, len(test_arr) - 1))\n",
    "            print(\"naive algo output: \", fun1(test_arr, 0, len(test_arr) - 1))\n",
    "            return False\n",
    "    return True\n",
    "    \n",
    "stress_test(max_subarray_naive, max_subarray_eff)"
   ]
  },
  {
   "cell_type": "code",
   "execution_count": 17,
   "metadata": {},
   "outputs": [],
   "source": [
    "class Point(): \n",
    "    def __init__(self, x, y): \n",
    "        self.x = x \n",
    "        self.y = y \n",
    "   \n",
    "def dist(p1, p2): \n",
    "    return ((p1.x - p2.x) ** 2 + (p1.y - p2.y) ** 2) ** 0.5  \n",
    "  \n",
    "\n",
    "\n",
    "def bruteForce(P, n): \n",
    "    min_val = float('inf')  \n",
    "    for i in range(n): \n",
    "        for j in range(i + 1, n): \n",
    "            if dist(P[i], P[j]) < min_val: \n",
    "                min_val = dist(P[i], P[j]) \n",
    "    return min_val \n",
    "  \n",
    "\n",
    "def stripClosest(strip, size, d): \n",
    "    min_val = d  \n",
    "    for i in range(size): \n",
    "        j = i + 1\n",
    "        while j < size and (strip[j].y - \n",
    "                            strip[i].y) < min_val: \n",
    "            min_val = dist(strip[i], strip[j]) \n",
    "            j += 1\n",
    "    return min_val  \n",
    "  \n",
    "def closestUtil(P, Q, n): \n",
    "    if n <= 3:  \n",
    "        return bruteForce(P, n)  \n",
    "  \n",
    "    mid = n // 2\n",
    "    midPoint = P[mid] \n",
    "  \n",
    "    dl = closestUtil(P[:mid], Q, mid) \n",
    "    dr = closestUtil(P[mid:], Q, n - mid)  \n",
    "    d = min(dl, dr) \n",
    "\n",
    "    strip = []  \n",
    "    for i in range(n):  \n",
    "        if abs(Q[i].x - midPoint.x) < d:  \n",
    "            strip.append(Q[i]) \n",
    "    return min(d, stripClosest(strip, len(strip), d)) \n",
    "  \n",
    "\n",
    "def closest(P, n): \n",
    "    P.sort(key = lambda point: point.x) \n",
    "    Q = P[:]\n",
    "    Q.sort(key = lambda point: point.y)      \n",
    "    return closestUtil(P, Q, n) \n",
    "\n",
    "  "
   ]
  }
 ],
 "metadata": {
  "kernelspec": {
   "display_name": "Python 3",
   "language": "python",
   "name": "python3"
  },
  "language_info": {
   "codemirror_mode": {
    "name": "ipython",
    "version": 3
   },
   "file_extension": ".py",
   "mimetype": "text/x-python",
   "name": "python",
   "nbconvert_exporter": "python",
   "pygments_lexer": "ipython3",
   "version": "3.7.6"
  }
 },
 "nbformat": 4,
 "nbformat_minor": 4
}

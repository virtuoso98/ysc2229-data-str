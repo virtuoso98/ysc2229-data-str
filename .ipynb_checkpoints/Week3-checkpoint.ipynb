{
 "cells": [
  {
   "cell_type": "code",
   "execution_count": 3,
   "metadata": {},
   "outputs": [
    {
     "name": "stdout",
     "output_type": "stream",
     "text": [
      "120\n"
     ]
    }
   ],
   "source": [
    "def fac(n):\n",
    "    acc = 1\n",
    "    for i in range(1, n):\n",
    "        acc *= i\n",
    "    return acc\n",
    "\n",
    "print(fac(6))"
   ]
  },
  {
   "cell_type": "code",
   "execution_count": 26,
   "metadata": {},
   "outputs": [],
   "source": [
    "def fac_inner(n, a):\n",
    "    if n == 0:\n",
    "        return a\n",
    "    else:\n",
    "        return fac_inner(n - 1, a * n)\n",
    "\n",
    "def fac_tail(n):\n",
    "    return fac_inner(n, 1)\n",
    "\n",
    "def fac_rec(n):\n",
    "    if n == 1:\n",
    "        return 1\n",
    "    return n * fac(n - 1)"
   ]
  },
  {
   "cell_type": "code",
   "execution_count": 40,
   "metadata": {},
   "outputs": [],
   "source": [
    "def fib_tail_inner(n, f1, f2):\n",
    "    if n == 0:\n",
    "        return f1 \n",
    "    if n == 1:\n",
    "        return f2\n",
    "    else:\n",
    "        return fib_tail_inner(n - 1, f2, f1 + f2)\n"
   ]
  },
  {
   "cell_type": "code",
   "execution_count": 54,
   "metadata": {},
   "outputs": [
    {
     "data": {
      "text/plain": [
       "[0, 1, 1]"
      ]
     },
     "execution_count": 54,
     "metadata": {},
     "output_type": "execute_result"
    }
   ],
   "source": [
    "def fib_tail_seq(n):\n",
    "    ans = [0, 1]\n",
    "    if n <= 1:\n",
    "        return ans[:n + 1]\n",
    "    else :\n",
    "        ans = [0, 1]\n",
    "        for i in range(2, n):\n",
    "            ans.append(ans[i - 1] + ans[i - 2])\n",
    "        return ans\n",
    "\n",
    "    \n",
    "fib_tail_seq(3)"
   ]
  },
  {
   "cell_type": "code",
   "execution_count": 2,
   "metadata": {},
   "outputs": [
    {
     "data": {
      "text/plain": [
       "6"
      ]
     },
     "execution_count": 2,
     "metadata": {},
     "output_type": "execute_result"
    }
   ],
   "source": [
    "def sum(i):\n",
    "    if i == 1:\n",
    "        return 1\n",
    "    else :\n",
    "        return i + sum(i - 1)\n",
    "\n",
    "sum (3)"
   ]
  },
  {
   "cell_type": "code",
   "execution_count": 8,
   "metadata": {},
   "outputs": [
    {
     "data": {
      "text/plain": [
       "45"
      ]
     },
     "execution_count": 8,
     "metadata": {},
     "output_type": "execute_result"
    }
   ],
   "source": [
    "def rec(n):\n",
    "    if n == 0:\n",
    "        return 0\n",
    "    else:\n",
    "        return 2 * rec(n - 1) + 3\n"
   ]
  },
  {
   "cell_type": "code",
   "execution_count": 18,
   "metadata": {},
   "outputs": [
    {
     "data": {
      "text/plain": [
       "31"
      ]
     },
     "execution_count": 18,
     "metadata": {},
     "output_type": "execute_result"
    }
   ],
   "source": [
    "def move_disks(n, start, middle, end):\n",
    "    if n == 1:\n",
    "        return 1\n",
    "    return (move_disks(n - 1, start, end, middle) + 1) + move_disks(n - 1, end, middle, start)\n",
    "\n",
    "move_disks(5, \"a\", \"b\", \"c\")"
   ]
  },
  {
   "cell_type": "code",
   "execution_count": 4,
   "metadata": {},
   "outputs": [
    {
     "ename": "SyntaxError",
     "evalue": "Missing parentheses in call to 'print'. Did you mean print(\"Move disk 1 from source\",source,\"to destination\",destination)? (<ipython-input-4-36ae85e138cc>, line 3)",
     "output_type": "error",
     "traceback": [
      "\u001b[1;36m  File \u001b[1;32m\"<ipython-input-4-36ae85e138cc>\"\u001b[1;36m, line \u001b[1;32m3\u001b[0m\n\u001b[1;33m    print \"Move disk 1 from source\",source,\"to destination\",destination\u001b[0m\n\u001b[1;37m                                  ^\u001b[0m\n\u001b[1;31mSyntaxError\u001b[0m\u001b[1;31m:\u001b[0m Missing parentheses in call to 'print'. Did you mean print(\"Move disk 1 from source\",source,\"to destination\",destination)?\n"
     ]
    }
   ],
   "source": [
    "def TowerOfHanoi(n , source, destination, auxiliary): \n",
    "    if n==1: \n",
    "        print \"Move disk 1 from source\",source,\"to destination\",destination \n",
    "        return\n",
    "    TowerOfHanoi(n-1, source, auxiliary, destination) \n",
    "    print(\"Move disk\", n ,\"from source\", source,\"to destination\",destination)\n",
    "    TowerOfHanoi(n-1, auxiliary, destination, source) \n",
    "\n",
    "TowerOfHanoi(5, 'a', 'b', 'c')"
   ]
  }
 ],
 "metadata": {
  "kernelspec": {
   "display_name": "Python 3",
   "language": "python",
   "name": "python3"
  },
  "language_info": {
   "codemirror_mode": {
    "name": "ipython",
    "version": 3
   },
   "file_extension": ".py",
   "mimetype": "text/x-python",
   "name": "python",
   "nbconvert_exporter": "python",
   "pygments_lexer": "ipython3",
   "version": "3.7.6"
  }
 },
 "nbformat": 4,
 "nbformat_minor": 4
}

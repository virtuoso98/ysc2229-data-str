{
 "cells": [
  {
   "cell_type": "code",
   "execution_count": 3,
   "metadata": {},
   "outputs": [
    {
     "name": "stdout",
     "output_type": "stream",
     "text": [
      "120\n"
     ]
    }
   ],
   "source": [
    "def fac(n):\n",
    "    acc = 1\n",
    "    for i in range(1, n):\n",
    "        acc *= i\n",
    "    return acc\n",
    "\n",
    "print(fac(6))"
   ]
  },
  {
   "cell_type": "code",
   "execution_count": 26,
   "metadata": {},
   "outputs": [],
   "source": [
    "def fac_inner(n, a):\n",
    "    if n == 0:\n",
    "        return a\n",
    "    else:\n",
    "        return fac_inner(n - 1, a * n)\n",
    "\n",
    "def fac_tail(n):\n",
    "    return fac_inner(n, 1)\n",
    "\n",
    "def fac_rec(n):\n",
    "    if n == 1:\n",
    "        return 1\n",
    "    return n * fac(n - 1)"
   ]
  },
  {
   "cell_type": "code",
   "execution_count": 37,
   "metadata": {},
   "outputs": [
    {
     "name": "stdout",
     "output_type": "stream",
     "text": [
      "None\n"
     ]
    }
   ],
   "source": [
    "def fib_tail_inner(n, f1, f2):\n",
    "    if n == 0:\n",
    "        return f1 \n",
    "    if n == 1:\n",
    "        return f2\n",
    "    else:\n",
    "        return fib_tail_inner(n - 1, f2, f1 + f2)\n",
    "\n",
    "def fib_tail(n):\n",
    "    fib_tail_inner(n, 0, 1)\n",
    "\n"
   ]
  }
 ],
 "metadata": {
  "kernelspec": {
   "display_name": "Python 3",
   "language": "python",
   "name": "python3"
  },
  "language_info": {
   "codemirror_mode": {
    "name": "ipython",
    "version": 3
   },
   "file_extension": ".py",
   "mimetype": "text/x-python",
   "name": "python",
   "nbconvert_exporter": "python",
   "pygments_lexer": "ipython3",
   "version": "3.7.6"
  }
 },
 "nbformat": 4,
 "nbformat_minor": 4
}

{
 "cells": [
  {
   "cell_type": "code",
   "execution_count": 1,
   "metadata": {},
   "outputs": [],
   "source": [
    "def binarySearch_aux(arr, l, r, x):\n",
    "    if 1 <= r:\n",
    "        mid = l + (r - l) // 2\n",
    "        \n",
    "        if arr[mid] == x:\n",
    "            return mid\n",
    "        \n",
    "        elif arr[mid] > x:\n",
    "            return binarySearch_aux(arr, l, mid - 1, x)\n",
    "        \n",
    "        else: \n",
    "            return binarySearch_aux(arr, mid + 1, r, x)\n",
    "    \n",
    "    else:\n",
    "        print(\"element not in array\")\n",
    "        return -1\n",
    "    \n",
    "def binarySearch_main(arr, x):\n",
    "    return binarySearch_aux(arr, 0, len(arr), x)\n"
   ]
  },
  {
   "cell_type": "code",
   "execution_count": 2,
   "metadata": {},
   "outputs": [],
   "source": [
    "def mergeSort(arr):\n",
    "    if len(arr) > 1:\n",
    "        m = len(arr) // 2\n",
    "        l = arr[:m]\n",
    "        r = arr[m:]\n",
    "        \n",
    "        mergeSort(l)\n",
    "        mergeSort(r)\n",
    "        \n",
    "        k = i = j = 0\n",
    "        \n",
    "        while i < len(l) and j < len(r):\n",
    "            if l[i] < r[j]:\n",
    "                arr[k] = l[i]\n",
    "                i += 1\n",
    "            else:\n",
    "                arr[k] = r[j]\n",
    "                j += 1\n",
    "            k += 1\n",
    "            \n",
    "        while i < len(l):\n",
    "            arr[k] = l[i]\n",
    "            i += 1\n",
    "            k += 1\n",
    "\n",
    "        while j < len(r):\n",
    "            arr[k]=r[j]\n",
    "            j += 1\n",
    "            k += 1\n",
    "        \n",
    "        print(arr)\n",
    "        "
   ]
  },
  {
   "cell_type": "code",
   "execution_count": 3,
   "metadata": {},
   "outputs": [],
   "source": [
    "def insertionSort_aux(arr, n):\n",
    "    if n == 1:\n",
    "        return \n",
    "    \n",
    "    insertionSort_aux(arr, n - 1)\n",
    "    key = arr[n - 1]\n",
    "    pos = n - 2\n",
    "    while (pos >= 0 and arr[pos] > key):\n",
    "        arr[pos + 1] = arr[pos]\n",
    "        pos -= 1\n",
    "     \n",
    "    arr[pos + 1] = key\n",
    "    \n",
    "    \n",
    "insertionSort_aux([3,1,2,4,6,8],6)\n",
    "    \n"
   ]
  },
  {
   "cell_type": "code",
   "execution_count": 8,
   "metadata": {},
   "outputs": [
    {
     "ename": "NameError",
     "evalue": "name 'A' is not defined",
     "output_type": "error",
     "traceback": [
      "\u001b[1;31m---------------------------------------------------------------------------\u001b[0m",
      "\u001b[1;31mNameError\u001b[0m                                 Traceback (most recent call last)",
      "\u001b[1;32m<ipython-input-8-3b5e5ec51acf>\u001b[0m in \u001b[0;36m<module>\u001b[1;34m\u001b[0m\n\u001b[0;32m      7\u001b[0m     \u001b[0mprint\u001b[0m\u001b[1;33m(\u001b[0m\u001b[0mM11\u001b[0m\u001b[1;33m)\u001b[0m\u001b[1;33m\u001b[0m\u001b[1;33m\u001b[0m\u001b[0m\n\u001b[0;32m      8\u001b[0m \u001b[1;33m\u001b[0m\u001b[0m\n\u001b[1;32m----> 9\u001b[1;33m \u001b[0mpartition\u001b[0m\u001b[1;33m(\u001b[0m\u001b[0mA\u001b[0m\u001b[1;33m)\u001b[0m\u001b[1;33m\u001b[0m\u001b[1;33m\u001b[0m\u001b[0m\n\u001b[0m\u001b[0;32m     10\u001b[0m \u001b[1;33m\u001b[0m\u001b[0m\n",
      "\u001b[1;31mNameError\u001b[0m: name 'A' is not defined"
     ]
    }
   ],
   "source": [
    "import random\n",
    "\n",
    "random_n_matrix(n):\n",
    "    arr = []\n",
    "    for i in range (n):\n",
    "        \n",
    "    \n",
    "    return arr \n",
    "\n",
    "\n",
    "def partition(M):\n",
    "    n = len(M)\n",
    "    mid = n // 2\n",
    "    top_half = M[:mid]\n",
    "    bot_half = M[mid:]\n",
    "    M11 = [top_half[i][:mid] for i in range(mid)]\n",
    "    print(M11)\n",
    "\n",
    "partition(A)\n",
    "\n"
   ]
  },
  {
   "cell_type": "code",
   "execution_count": 166,
   "metadata": {},
   "outputs": [
    {
     "name": "stdout",
     "output_type": "stream",
     "text": [
      "[[0, 0, 0, 0], [0, 0, 0, 0], [0, 0, 0, 0], [0, 0, 0, 0]]\n",
      "[[34, 38, 31, 62], [75, 87, 76, 142], [114, 126, 115, 220], [58, 68, 68, 111]]\n"
     ]
    },
    {
     "ename": "TypeError",
     "evalue": "list indices must be integers or slices, not tuple",
     "output_type": "error",
     "traceback": [
      "\u001b[1;31m---------------------------------------------------------------------------\u001b[0m",
      "\u001b[1;31mTypeError\u001b[0m                                 Traceback (most recent call last)",
      "\u001b[1;32m<ipython-input-166-839cd6f085fa>\u001b[0m in \u001b[0;36m<module>\u001b[1;34m\u001b[0m\n\u001b[0;32m     36\u001b[0m     \u001b[0mprint\u001b[0m\u001b[1;33m(\u001b[0m\u001b[0mM11\u001b[0m\u001b[1;33m)\u001b[0m\u001b[1;33m\u001b[0m\u001b[1;33m\u001b[0m\u001b[0m\n\u001b[0;32m     37\u001b[0m \u001b[1;33m\u001b[0m\u001b[0m\n\u001b[1;32m---> 38\u001b[1;33m \u001b[0mpartition\u001b[0m\u001b[1;33m(\u001b[0m\u001b[0mA\u001b[0m\u001b[1;33m)\u001b[0m\u001b[1;33m\u001b[0m\u001b[1;33m\u001b[0m\u001b[0m\n\u001b[0m\u001b[0;32m     39\u001b[0m \u001b[1;33m\u001b[0m\u001b[0m\n\u001b[0;32m     40\u001b[0m \u001b[1;32mdef\u001b[0m \u001b[0msquare_matrix_multiply_rec\u001b[0m\u001b[1;33m(\u001b[0m\u001b[0mA\u001b[0m\u001b[1;33m,\u001b[0m \u001b[0mB\u001b[0m\u001b[1;33m)\u001b[0m\u001b[1;33m:\u001b[0m\u001b[1;33m\u001b[0m\u001b[1;33m\u001b[0m\u001b[0m\n",
      "\u001b[1;32m<ipython-input-166-839cd6f085fa>\u001b[0m in \u001b[0;36mpartition\u001b[1;34m(M)\u001b[0m\n\u001b[0;32m     30\u001b[0m     \u001b[0mmid\u001b[0m \u001b[1;33m=\u001b[0m \u001b[0mn\u001b[0m \u001b[1;33m//\u001b[0m \u001b[1;36m2\u001b[0m\u001b[1;33m\u001b[0m\u001b[1;33m\u001b[0m\u001b[0m\n\u001b[0;32m     31\u001b[0m \u001b[1;33m\u001b[0m\u001b[0m\n\u001b[1;32m---> 32\u001b[1;33m     \u001b[0mM11\u001b[0m \u001b[1;33m=\u001b[0m \u001b[0mM\u001b[0m\u001b[1;33m[\u001b[0m\u001b[1;33m:\u001b[0m\u001b[0mmid\u001b[0m\u001b[1;33m,\u001b[0m \u001b[1;33m:\u001b[0m\u001b[0mmid\u001b[0m\u001b[1;33m]\u001b[0m\u001b[1;33m\u001b[0m\u001b[1;33m\u001b[0m\u001b[0m\n\u001b[0m\u001b[0;32m     33\u001b[0m     \u001b[0mM12\u001b[0m \u001b[1;33m=\u001b[0m \u001b[0mM\u001b[0m\u001b[1;33m[\u001b[0m\u001b[1;33m:\u001b[0m\u001b[0mmid\u001b[0m\u001b[1;33m,\u001b[0m \u001b[0mmid\u001b[0m\u001b[1;33m:\u001b[0m\u001b[1;33m]\u001b[0m\u001b[1;33m\u001b[0m\u001b[1;33m\u001b[0m\u001b[0m\n\u001b[0;32m     34\u001b[0m     \u001b[0mM21\u001b[0m \u001b[1;33m=\u001b[0m \u001b[0mM\u001b[0m\u001b[1;33m[\u001b[0m\u001b[0mmid\u001b[0m\u001b[1;33m:\u001b[0m\u001b[1;33m,\u001b[0m \u001b[1;33m:\u001b[0m\u001b[0mmid\u001b[0m\u001b[1;33m]\u001b[0m\u001b[1;33m\u001b[0m\u001b[1;33m\u001b[0m\u001b[0m\n",
      "\u001b[1;31mTypeError\u001b[0m: list indices must be integers or slices, not tuple"
     ]
    }
   ],
   "source": [
    "\n",
    "def square_matrix_multiply_rec(A, B):\n",
    "    pass\n",
    "    n = len(A)\n",
    "    C = [[0 for i in range(n)] for j in range(n)]\n",
    "    if n == 1:\n",
    "        C[0][0] += A[0][0] * B[0][0]\n",
    "    else:\n",
    "        return\n",
    "        \n",
    "    "
   ]
  }
 ],
 "metadata": {
  "kernelspec": {
   "display_name": "Python 3",
   "language": "python",
   "name": "python3"
  },
  "language_info": {
   "codemirror_mode": {
    "name": "ipython",
    "version": 3
   },
   "file_extension": ".py",
   "mimetype": "text/x-python",
   "name": "python",
   "nbconvert_exporter": "python",
   "pygments_lexer": "ipython3",
   "version": "3.7.6"
  }
 },
 "nbformat": 4,
 "nbformat_minor": 4
}

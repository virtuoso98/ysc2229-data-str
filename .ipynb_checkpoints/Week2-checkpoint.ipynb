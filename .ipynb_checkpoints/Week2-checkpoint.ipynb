{
 "cells": [
  {
   "cell_type": "code",
   "execution_count": null,
   "metadata": {},
   "outputs": [],
   "source": [
    "def insertion_sort(arr):\n",
    "    for i in range(1, len(arr)):\n",
    "        j = i\n",
    "        while (j > 0 and arr[j - 1] < arr[j]):\n",
    "            arr[j], arr[j - 1] = arr[j - 1], arr[j]\n",
    "            j -=1\n",
    "    return arr\n",
    "    \n",
    "print(insertion_sort([8,4,1,2,58,9,3]))"
   ]
  },
  {
   "cell_type": "code",
   "execution_count": null,
   "metadata": {},
   "outputs": [],
   "source": [
    "def insertion_sort_alt(arr):\n",
    "    for j in range(1, len(arr)):\n",
    "        key = arr[j]\n",
    "        i = j - 1\n",
    "        while(i >= 0 and arr[i] > key):\n",
    "            arr[i + 1] = arr[i]\n",
    "            i -= 1\n",
    "        arr[i + 1] = key\n",
    "    return arr\n",
    "    \n",
    "print(insertion_sort_alt([3,1,2,4,6,7]))"
   ]
  },
  {
   "cell_type": "code",
   "execution_count": 4,
   "metadata": {},
   "outputs": [
    {
     "data": {
      "text/plain": [
       "5.0"
      ]
     },
     "execution_count": 4,
     "metadata": {},
     "output_type": "execute_result"
    }
   ],
   "source": [
    "def dist(p1, p2):\n",
    "    return ((p1[0] - p2[0])**2 + (p1[1] - p2[1])**2) ** 0.5\n",
    "\n",
    "\n",
    "dist((3, 4),(6, 8))"
   ]
  },
  {
   "cell_type": "code",
   "execution_count": null,
   "metadata": {},
   "outputs": [],
   "source": [
    "def closest_points_naive(points):\n",
    "    if len(points) <= 1:\n",
    "        return \"No pair to search for\"\n",
    "    min_dist = float('inf')\n",
    "    for i in range(len(points)):\n",
    "        for j in range (i + 1, len(points)):\n",
    "            if min_dist > dist(points[i], points[j]):\n",
    "                ans = (i, j)\n",
    "                min_dist = dist(points[i], points[j])\n",
    "    \n",
    "    return (points[ans[i]], points[ans[j]])\n",
    "            "
   ]
  }
 ],
 "metadata": {
  "kernelspec": {
   "display_name": "Python 3",
   "language": "python",
   "name": "python3"
  },
  "language_info": {
   "codemirror_mode": {
    "name": "ipython",
    "version": 3
   },
   "file_extension": ".py",
   "mimetype": "text/x-python",
   "name": "python",
   "nbconvert_exporter": "python",
   "pygments_lexer": "ipython3",
   "version": "3.7.6"
  }
 },
 "nbformat": 4,
 "nbformat_minor": 4
}

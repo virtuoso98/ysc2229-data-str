{
 "cells": [
  {
   "cell_type": "markdown",
   "metadata": {},
   "source": [
    "# YSC2229 Assignment 2\n",
    "## A0149963M"
   ]
  },
  {
   "cell_type": "markdown",
   "metadata": {},
   "source": [
    "Stress testing functions for the maximum subarray problem. The unit test generates a random array to test the divide and conquer implementation against the naive implementation which we are confident that works"
   ]
  },
  {
   "cell_type": "code",
   "execution_count": 9,
   "metadata": {},
   "outputs": [],
   "source": [
    "import random\n",
    "\n",
    "def generate_random_array():\n",
    "    \"\"\"\n",
    "    Generates random array for testing purposes.\n",
    "    \"\"\"\n",
    "    l = random.randint(1, 100)\n",
    "    out = []\n",
    "    for i in range(l):\n",
    "        out.append(random.randint(0,200) - 100)\n",
    "    return out\n",
    "\n",
    "\n",
    "def stress_test_subarray(fun1, fun2):\n",
    "    \"\"\"\n",
    "    Stress test to test divide and conquer method for maximum subarray\n",
    "    vs the naive implementation. \n",
    "    \n",
    "    Maximum subarray value is non-unique, but maximum subarray itself\n",
    "    could be non-unique. Therefore, \n",
    "    \"\"\"\n",
    "    for z in range(0, 2000):\n",
    "        test_arr = generate_random_array()\n",
    "        if fun2(test_arr, 0, len(test_arr) - 1)[2] != fun1(test_arr, 0, len(test_arr) - 1)[2]:\n",
    "            print(\"Test failed for: \", test_arr)\n",
    "            print(\"efficient algo output: \", fun2(test_arr, 0, len(test_arr) - 1))\n",
    "            print(\"naive algo output: \", fun1(test_arr, 0, len(test_arr) - 1))\n",
    "            return False\n",
    "    return True"
   ]
  },
  {
   "cell_type": "markdown",
   "metadata": {},
   "source": [
    "Naive implementation of the maximum subarray"
   ]
  },
  {
   "cell_type": "code",
   "execution_count": 10,
   "metadata": {},
   "outputs": [],
   "source": [
    "def max_subarray_naive(arr, low, high):\n",
    "    \"\"\"\n",
    "    arr - input array\n",
    "    low - leftmost index \n",
    "    high - rightmost index\n",
    "    \n",
    "    Naively calculating the maximum subarray in O(n^2)\n",
    "    \"\"\"\n",
    "    # base case if only 1 point in array\n",
    "    if low == high:\n",
    "        return(low, high, arr[low])\n",
    "    \n",
    "    maxSum = float('-inf')\n",
    "    \n",
    "    # for-loop that iterates all possibilites \n",
    "    for i in range(len(arr)):\n",
    "        total = 0\n",
    "        for j in range(i, len(arr)):\n",
    "            total += arr[j]\n",
    "            if maxSum < total :\n",
    "                first = i\n",
    "                last = j\n",
    "                maxSum = total\n",
    "                \n",
    "    \n",
    "    return (first, last, maxSum)"
   ]
  },
  {
   "cell_type": "markdown",
   "metadata": {},
   "source": [
    "Efficient way of computing the maximum subarray using the divide-and-conquer approach"
   ]
  },
  {
   "cell_type": "code",
   "execution_count": 11,
   "metadata": {},
   "outputs": [],
   "source": [
    "def max_crossing_subarray(arr, low, mid, high):\n",
    "    \"\"\"\n",
    "    arr - input array\n",
    "    low - leftmost index\n",
    "    mid - midpoint index\n",
    "    high - rightmost index\n",
    "    \n",
    "    finds the maximum crossing subarray in an array in O(n)\n",
    "    \"\"\"\n",
    "    \n",
    "    # left subarray\n",
    "    leftSum = float('-inf')\n",
    "    maxLeft = float('-inf')\n",
    "    total = 0\n",
    "    for i in reversed(range(low, mid + 1)):\n",
    "        total += arr[i]\n",
    "        if total > leftSum:\n",
    "            leftSum = total\n",
    "            maxLeft = i\n",
    "    \n",
    "    # right subarray\n",
    "    rightSum = float('-inf')\n",
    "    maxRight = float('-inf')\n",
    "    total = 0\n",
    "    for j in range(mid + 1, high + 1):\n",
    "        total += arr[j]\n",
    "        if total > rightSum:\n",
    "            rightSum = total\n",
    "            maxRight = j\n",
    "    return (maxLeft, maxRight, max(leftSum, max(rightSum, leftSum + rightSum)))\n",
    "\n",
    "\n",
    "def max_subarray_eff(arr, low, high):\n",
    "    \"\"\"\n",
    "    arr - input array\n",
    "    low - leftmost index \n",
    "    high - rightmost index \n",
    "    \n",
    "    Calculates maximum subarray in O(nlogn) time\n",
    "    \"\"\"\n",
    "    \n",
    "    if high == low:\n",
    "        return(low, high, arr[low])\n",
    "    else:\n",
    "        mid = (low + high) // 2\n",
    "        leftLow, leftHigh, leftSum = max_subarray_eff(arr, low, mid)\n",
    "        rightLow, rightHigh, rightSum = max_subarray_eff(arr, mid + 1, high)\n",
    "        crossLow, crossHigh, crossSum = max_crossing_subarray(arr, low, mid, high)\n",
    "        \n",
    "        if leftSum >= rightSum and leftSum >= crossSum:\n",
    "            return (leftLow, leftHigh, leftSum)\n",
    "        elif rightSum >= leftSum and rightSum >= crossSum:\n",
    "            return (rightLow, rightHigh, rightSum)\n",
    "        else: \n",
    "            return (crossLow, crossHigh, crossSum)\n",
    "        "
   ]
  },
  {
   "cell_type": "code",
   "execution_count": 12,
   "metadata": {},
   "outputs": [
    {
     "data": {
      "text/plain": [
       "True"
      ]
     },
     "execution_count": 12,
     "metadata": {},
     "output_type": "execute_result"
    }
   ],
   "source": [
    "# running the stress test\n",
    "\n",
    "stress_test_subarray(max_subarray_naive, max_subarray_eff)"
   ]
  },
  {
   "cell_type": "markdown",
   "metadata": {},
   "source": [
    "Stress testing functions for the nearest pair of points problem. The unit test generates a random array of points to test the divide and conquer implementation against the naive implementation which we are confident that works."
   ]
  },
  {
   "cell_type": "code",
   "execution_count": 13,
   "metadata": {},
   "outputs": [],
   "source": [
    "# testing functions\n",
    "import random\n",
    "\n",
    "def generate_random_point():\n",
    "    \"\"\"\n",
    "    Generates random point (x, y). \n",
    "    Appended in the array\n",
    "    \"\"\"\n",
    "    x = random.uniform(0, 30) - 15\n",
    "    y = random.uniform(0, 30) - 15\n",
    "\n",
    "    return (x, y)\n",
    "\n",
    "def generate_random_array():\n",
    "    \"\"\"\n",
    "    Generates random array. \n",
    "    Minimum length of 2 \n",
    "    \"\"\"\n",
    "    count = random.randint(2, 30)\n",
    "    out = []\n",
    "    for i in range(count):\n",
    "        out.append(generate_random_point())\n",
    "    return out\n",
    "\n",
    "def stress_test_points(candidate, witness):\n",
    "    for i in range(2000):\n",
    "        test = generate_random_array()\n",
    "        test_p1, test_p2, dist_test = candidate(test)\n",
    "        actual_p1, actual_p2, dist_actual = witness(test)\n",
    "        if dist_test != dist_actual:\n",
    "            print(\"Test failed for \", test)\n",
    "            print(\"Test algorithm gave: \", dist_test)\n",
    "            print(\"Test algorithm gave the following pairs of points: \")\n",
    "            print(\"Point 1: \", test_p1)\n",
    "            print(\"Point 2: \", test_p2)\n",
    "            print(\"Witness algorithm gave: \", dist_actual)\n",
    "            print(\"Witness algorithm gave the following pairs of points: \")\n",
    "            print(\"Point 1: \", actual_p1)\n",
    "            print(\"Point 2: \", actual_p2)\n",
    "            return False\n",
    "    return True\n"
   ]
  },
  {
   "cell_type": "markdown",
   "metadata": {},
   "source": [
    "Naive algorithm for finding the closest pair of points by enumerating all possibilities"
   ]
  },
  {
   "cell_type": "code",
   "execution_count": 14,
   "metadata": {},
   "outputs": [],
   "source": [
    "def dist(p1, p2):\n",
    "    (x1,y1),(x2,y2) = p1, p2 \n",
    "    return ((x1-x2)**2 + (y1-y2)**2)**0.5\n",
    "\n",
    "def closest_naive(P): \n",
    "    \"\"\"\n",
    "    P - list containing points in the coordinate form (x, y)\n",
    "    n - length of list (number of points, at least 2)\n",
    "    \n",
    "    Naive algorithm for finding closest points in a list in O(n^2).\n",
    "    \"\"\"\n",
    "    # distance set to infinite first and updated later\n",
    "    min_val = float('inf') \n",
    "    n = len(P)\n",
    "    # enumerates all possibilities to find minimum distance\n",
    "    for i in range(n - 1): \n",
    "        for j in range(i + 1, n): \n",
    "            if dist(P[i], P[j]) < min_val: \n",
    "                min_val = dist(P[i], P[j])\n",
    "                left = i\n",
    "                right = j\n",
    "    return P[left], P[right], min_val\n"
   ]
  },
  {
   "cell_type": "markdown",
   "metadata": {},
   "source": [
    "Efficient implementation that uses divide and conquer algorithm, that operates in O(n) time"
   ]
  },
  {
   "cell_type": "code",
   "execution_count": 15,
   "metadata": {},
   "outputs": [],
   "source": [
    "def find_dist(p1, p2):\n",
    "    (x1,y1),(x2,y2) = p1, p2 \n",
    "    return ((x1-x2)**2 + (y1-y2)**2)**0.5\n",
    "\n",
    "def find_strip(X, Y, m, d):\n",
    "    \"\"\"\n",
    "    initializes the strip that stretches from the midpoint\n",
    "    including points with a distance <= d from the midpoint\n",
    "    \"\"\"\n",
    "    mid_dist = X[m][0]\n",
    "    strip = []\n",
    "    for point in Y:\n",
    "        if abs(point[0] - mid_dist) <= d:\n",
    "            strip.append(point)\n",
    "    return strip\n",
    "\n",
    "def crossing(X,Y,m,d):\n",
    "    \"\"\"\n",
    "    X - array of points sorted in x-coordinates\n",
    "    Y - array of points sorted in y-coordinates\n",
    "    m - middle index\n",
    "    d - minimum distance so far\n",
    "    \n",
    "    O(n) algorithm trying to find points within the strip\n",
    "    with minimal distance\n",
    "    \"\"\"\n",
    "    strip = find_strip(X,Y,m,d)\n",
    "    if len(strip) <= 1:\n",
    "        return (m, float(\"inf\"), strip[0], strip[0])\n",
    "    min_dist = float(\"inf\")\n",
    "    for i in range(len(strip)):\n",
    "        j = i+1\n",
    "        # comment out (strip[j][1] - strip[i][1] <= min_dist) if this doesn't work\n",
    "        while (j < len(strip) and (strip[j][1] - strip[i][1] <= min_dist)):\n",
    "            dist = find_dist(strip[i], strip[j])\n",
    "            if dist < min_dist:\n",
    "                p1, p2 = strip[i], strip[j]\n",
    "                min_dist = dist\n",
    "            j+=1\n",
    "    return (m, min_dist, p1, p2)\n",
    "\n",
    "def find_closest(X, Y, l, r, p1=None, p2=None):   \n",
    "    \"\"\"\n",
    "    X - array of points sorted in x-coordinates\n",
    "    Y - array of points sorted in y-coordinates\n",
    "    l - leftmost index\n",
    "    r - rightmost index\n",
    "    p1 - first point in the pair of points with shortest distance\n",
    "    p2 - second point in the pair of points with shortest distance\n",
    "    \n",
    "    Recursive engine of the algorithm that breaks the problem\n",
    "    down to T(n/2) + O(n)\n",
    "    \"\"\"\n",
    "    if l == r:\n",
    "        return (r, float(\"inf\"), X[r], X[r])        \n",
    "    m = (r+l) // 2\n",
    "    (midl, d1, p1_left, p2_left) = find_closest(X, Y, l, m, p1, p2)\n",
    "    (midr, d2, p1_right, p2_right) = find_closest(X, Y, m+1, r, p1, p2)   \n",
    "    (midc, d3, p1_cross, p2_cross) = crossing(X, Y, midl, min(d1, d2))\n",
    "    if d3 < d1 and d3 < d2:\n",
    "        return (midc, d3, p1_cross, p2_cross)\n",
    "    elif d1 < d2:\n",
    "        return (midl, d1, p1_left, p2_left)\n",
    "    else: \n",
    "        return (midr, d2, p1_right, p2_right)\n",
    "\n",
    "def closest_pair(A):\n",
    "    \"\"\"\n",
    "    Main function.\n",
    "    A - input array of points\n",
    "    \"\"\"\n",
    "    Y = A.copy()    \n",
    "    A.sort(key=lambda tup: tup[0]) \n",
    "    Y.sort(key=lambda tup: tup[1]) \n",
    "    l = 0\n",
    "    r = len(A) - 1\n",
    "    (_, closest_distance, p1, p2) = find_closest(A, Y, l, r)\n",
    "    # print(\"smallest distance is: \", closest_distance)\n",
    "    # print(\"the first point is: \", p1)\n",
    "    # print(\"the second point is: \", p2)\n",
    "    return p1, p2, closest_distance"
   ]
  },
  {
   "cell_type": "code",
   "execution_count": 16,
   "metadata": {},
   "outputs": [
    {
     "data": {
      "text/plain": [
       "True"
      ]
     },
     "execution_count": 16,
     "metadata": {},
     "output_type": "execute_result"
    }
   ],
   "source": [
    "stress_test_points(closest_pair,closest_naive)"
   ]
  }
 ],
 "metadata": {
  "kernelspec": {
   "display_name": "Python 3",
   "language": "python",
   "name": "python3"
  },
  "language_info": {
   "codemirror_mode": {
    "name": "ipython",
    "version": 3
   },
   "file_extension": ".py",
   "mimetype": "text/x-python",
   "name": "python",
   "nbconvert_exporter": "python",
   "pygments_lexer": "ipython3",
   "version": "3.8.5"
  }
 },
 "nbformat": 4,
 "nbformat_minor": 4
}

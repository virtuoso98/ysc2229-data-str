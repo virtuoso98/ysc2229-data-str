{
 "cells": [
  {
   "cell_type": "code",
   "execution_count": null,
   "metadata": {},
   "outputs": [],
   "source": [
    "# A0149963M \n",
    "# YSC2229 Assignment 2"
   ]
  },
  {
   "cell_type": "code",
   "execution_count": null,
   "metadata": {},
   "outputs": [],
   "source": []
  },
  {
   "cell_type": "code",
   "execution_count": 9,
   "metadata": {},
   "outputs": [],
   "source": [
    "def max_subarray_naive(arr, low, high):\n",
    "    \"\"\"\n",
    "    arr - input array\n",
    "    low - leftmost index (0)\n",
    "    high - rightmost index (len(arr) - 1)\n",
    "    \n",
    "    Naive way of calculating the maximum subarray with\n",
    "    O(n^2 time)\n",
    "    \"\"\"\n",
    "    # base case if only 1 point in array\n",
    "    if low == high:\n",
    "        return(low, high, arr[low])\n",
    "    \n",
    "    # if there are >1 points in array\n",
    "    maxSum = float('-inf')\n",
    "    \n",
    "    # for-loop that iterates all possibilites \n",
    "    for i in range(len(arr)):\n",
    "        total = 0\n",
    "        for j in range(i, len(arr)):\n",
    "            total += arr[j]\n",
    "            if maxSum < total :\n",
    "                first = i\n",
    "                last = j\n",
    "                maxSum = total\n",
    "                \n",
    "    \n",
    "    return (first, last, maxSum)\n"
   ]
  },
  {
   "cell_type": "code",
   "execution_count": 8,
   "metadata": {},
   "outputs": [],
   "source": [
    "def max_crossing_subarray(arr, low, mid, high):\n",
    "    \"\"\"\n",
    "    arr - input array\n",
    "    low - leftmost index\n",
    "    mid - index of midpoint in array\n",
    "    high - rightmost index\n",
    "    \n",
    "    finds the maximum crossing subarray in an array in O(n)\n",
    "    \"\"\"\n",
    "    \n",
    "    # left subarray\n",
    "    leftSum = float('-inf')\n",
    "    maxLeft = float('-inf')\n",
    "    total = 0\n",
    "    for i in reversed(range(low, mid + 1)):\n",
    "        total += arr[i]\n",
    "        if total > leftSum:\n",
    "            leftSum = total\n",
    "            maxLeft = i\n",
    "    \n",
    "    # right subarray\n",
    "    rightSum = float('-inf')\n",
    "    maxRight = float('-inf')\n",
    "    total = 0\n",
    "    for j in range(mid + 1, high + 1):\n",
    "        total += arr[j]\n",
    "        if total > rightSum:\n",
    "            rightSum = total\n",
    "            maxRight = j\n",
    "    return (maxLeft, maxRight, max(leftSum, max(rightSum, leftSum + rightSum)))\n",
    "\n",
    "\n",
    "def max_subarray_eff(arr, low, high):\n",
    "    \"\"\"\n",
    "    arr - input array\n",
    "    low - leftmost index (0 for initialization)\n",
    "    high - rightmost index (len(arr) - 1 for initialization)\n",
    "    \n",
    "    Efficient way of calculating maximum subarray in O(nlogn) time\n",
    "    \"\"\"\n",
    "    \n",
    "    if high == low:\n",
    "        return(low, high, arr[low])\n",
    "    else:\n",
    "        mid = (low + high) // 2\n",
    "        leftLow, leftHigh, leftSum = max_subarray_eff(arr, low, mid)\n",
    "        rightLow, rightHigh, rightSum = max_subarray_eff(arr, mid + 1, high)\n",
    "        crossLow, crossHigh, crossSum = max_crossing_subarray(arr, low, mid, high)\n",
    "        \n",
    "        if leftSum >= rightSum and leftSum >= crossSum:\n",
    "            return (leftLow, leftHigh, leftSum)\n",
    "        elif rightSum >= leftSum and rightSum >= crossSum:\n",
    "            return (rightLow, rightHigh, rightSum)\n",
    "        else: \n",
    "            return (crossLow, crossHigh, crossSum)\n",
    "        "
   ]
  },
  {
   "cell_type": "code",
   "execution_count": 191,
   "metadata": {},
   "outputs": [
    {
     "data": {
      "text/plain": [
       "True"
      ]
     },
     "execution_count": 191,
     "metadata": {},
     "output_type": "execute_result"
    }
   ],
   "source": [
    "# testing\n",
    "import random\n",
    "\n",
    "def generate_random_array():\n",
    "    \"\"\"\n",
    "    generates random array for testing purposes in the stress test.\n",
    "    Just call this function during testing and compare function tested to\n",
    "    another that is guaranteed to work.\n",
    "    \"\"\"\n",
    "    l = random.randint(1, 100)\n",
    "    out = []\n",
    "    for i in range(l):\n",
    "        out.append(random.randint(0,200) - 100)\n",
    "    return out\n",
    "\n",
    "\n",
    "def stress_test_subarray(fun1, fun2):\n",
    "    \"\"\"\n",
    "    Stress test to test divide and conquer method for maximum subarray\n",
    "    vs the naive implementation. This is my testing function to check that\n",
    "    my implemementation works\n",
    "    \"\"\"\n",
    "    for z in range(0, 2000):\n",
    "        test_arr = generate_random_array()\n",
    "        # 2nd index refers to the maximum subarray sum. Good test since maximum subarray can be \n",
    "        # non-unique, but not the sum of the maximum subarray.\n",
    "        if fun2(test_arr, 0, len(test_arr) - 1)[2] != fun1(test_arr, 0, len(test_arr) - 1)[2]:\n",
    "            print(\"Test failed for: \", test_arr)\n",
    "            print(\"efficient algo output: \", fun2(test_arr, 0, len(test_arr) - 1))\n",
    "            print(\"naive algo output: \", fun1(test_arr, 0, len(test_arr) - 1))\n",
    "            return False\n",
    "    return True\n",
    "    \n",
    "stress_test_subarray(max_subarray_naive, max_subarray_eff)"
   ]
  },
  {
   "cell_type": "code",
   "execution_count": 10,
   "metadata": {},
   "outputs": [
    {
     "data": {
      "text/plain": [
       "(2, 3, 6.46455727541568)"
      ]
     },
     "execution_count": 10,
     "metadata": {},
     "output_type": "execute_result"
    }
   ],
   "source": [
    "def dist(p1, p2): \n",
    "    \"\"\"\n",
    "    auxillary function to find distance between 2 points.\n",
    "    \"\"\"\n",
    "    return ((p1[0] - p2[0]) ** 2 + (p1[1] - p2[1]) ** 2) ** 0.5  \n",
    "\n",
    "def closest_naive(P): \n",
    "    \"\"\"\n",
    "    P - list containing points in the coordinate form (x, y)\n",
    "    n - length of list (number of points, at least 2)\n",
    "    \n",
    "    Naive algorithm for finding closest points in a list in O(n^2).\n",
    "    Emumerates all possibilities to find such a list\n",
    "    \"\"\"\n",
    "    # distance set to infinite first and updated later\n",
    "    min_val = float('inf') \n",
    "    n = len(P)\n",
    "    # enumerates all possibilities to find minimum distance\n",
    "    \n",
    "    for i in range(n - 1): \n",
    "        for j in range(i + 1, n): \n",
    "            if dist(P[i], P[j]) < min_val: \n",
    "                min_val = dist(P[i], P[j])\n",
    "                left = i\n",
    "                right = j\n",
    "    return (left, right, min_val)\n",
    "\n",
    "\n",
    "closest_naive(generate_random_array())"
   ]
  },
  {
   "cell_type": "code",
   "execution_count": 1,
   "metadata": {},
   "outputs": [
    {
     "data": {
      "text/plain": [
       "(-7.763718922516829, -5.1526031569357205)"
      ]
     },
     "execution_count": 1,
     "metadata": {},
     "output_type": "execute_result"
    }
   ],
   "source": [
    "# testing functions\n",
    "import random\n",
    "\n",
    "def generate_random_point():\n",
    "    \"\"\"\n",
    "    Generates random point (x, y). \n",
    "    Used for testing\n",
    "    \"\"\"\n",
    "    x = random.uniform(0, 30) - 15\n",
    "    y = random.uniform(0, 30) - 15\n",
    "\n",
    "    return (x, y)\n",
    "\n",
    "def generate_random_array():\n",
    "    # min number of pts is 2\n",
    "    count = random.randint(2, 30)\n",
    "    out = []\n",
    "    for i in range(count):\n",
    "        out.append(generate_random_point())\n",
    "    return out\n",
    "\n",
    "def stress_test_points(fun1, fun2):\n",
    "    for i in range(1000):\n",
    "        test = generate_random_array()\n",
    "        actual = fun1(test)\n",
    "        expected = fun2(test)\n",
    "        if actual != expected:\n",
    "            print(\"Test failed for \", test)\n",
    "            print(\"Test algorithm gave: \", actual)\n",
    "            print(\"Witness algorithm gave: \", expected)\n",
    "            return False\n",
    "    return True\n"
   ]
  },
  {
   "cell_type": "code",
   "execution_count": 108,
   "metadata": {},
   "outputs": [],
   "source": [
    "import math\n",
    "def find_dist(p1, p2):\n",
    "    (x1,y1),(x2,y2) = p1, p2\n",
    "    d = math.sqrt((x1-x2)**2 + (y1-y2)**2)\n",
    "    return d\n",
    "\n",
    "def middle_arr(X, Y, m, d):\n",
    "    mid_dist = X[m][0]\n",
    "    new = []\n",
    "    for point in Y:\n",
    "        if abs(point[0] - mid_dist) <= d:\n",
    "            new.append(point)\n",
    "    return new\n",
    "\n",
    "def crossing(X,Y,m,d):\n",
    "    sub = middle_arr(X,Y,m,d)\n",
    "    if len(sub) <= 1:\n",
    "        return (m, float(\"inf\"), sub[0], sub[0])\n",
    "    mid_d = float(\"inf\")\n",
    "    for i in range(0, len(sub)):\n",
    "        j = i+1\n",
    "        while ((j-i-1) < 7 and j < len(sub)):\n",
    "            new_d = find_dist(sub[i], sub[j])\n",
    "            if new_d < mid_d:\n",
    "                p1, p2 = sub[i], sub[j]\n",
    "                mid_d = new_d\n",
    "            j+=1\n",
    "    return (m, mid_d, p1, p2)\n",
    "\n",
    "def find_closest(X, Y, l, r, p1=None, p2=None):    \n",
    "    if l == r:\n",
    "        return (l,float(\"inf\"), X[l], X[l])        \n",
    "    m = (r+l)//2\n",
    "    (midl, d1, p1_left, p2_left) = find_closest(X, Y, l, m, p1, p2)\n",
    "    (midr, d2, p1_right, p2_right) = find_closest(X, Y, m+1, r, p1, p2)    \n",
    "    if d1 <= d2:\n",
    "        (midc, d3, p1_cross, p2_cross) = crossing(X, Y, midl, d1)\n",
    "        if d3 < d1:\n",
    "            return (midc, d3 , p1_cross, p2_cross)\n",
    "        else:\n",
    "            return (midl, d1, p1_left, p2_left)        \n",
    "    else:\n",
    "        (midc, d3, p1_cross, p2_cross) = crossing(X, Y, midr, d2)\n",
    "        if d3 < d2:\n",
    "            return (midc, d3, p1_cross, p2_cross)\n",
    "        else:\n",
    "            return (midr, d2, p1_right, p2_right)\n",
    "\n",
    "def closest_pair(A):\n",
    "    Y = A.copy()    \n",
    "    A.sort(key=lambda tup: tup[0]) \n",
    "    Y.sort(key=lambda tup: tup[1]) \n",
    "    l, r = 0, len(A)-1 \n",
    "    (_, closest_distance, p1, p2) = find_closest(A, Y, l, r)\n",
    "    print(\"Closest Pair of points are:\",p1,p2)\n",
    "    print(\"Distance:\", closest_distance)"
   ]
  },
  {
   "cell_type": "code",
   "execution_count": 173,
   "metadata": {},
   "outputs": [
    {
     "name": "stdout",
     "output_type": "stream",
     "text": [
      "Closest Pair of points are: (3.676438630659689, -9.407758328388) (4.253974170565609, -9.359668082633048)\n",
      "Distance: 0.579534271282721\n"
     ]
    }
   ],
   "source": [
    "\n",
    "closest_pair(generate_random_array())"
   ]
  }
 ],
 "metadata": {
  "kernelspec": {
   "display_name": "Python 3",
   "language": "python",
   "name": "python3"
  },
  "language_info": {
   "codemirror_mode": {
    "name": "ipython",
    "version": 3
   },
   "file_extension": ".py",
   "mimetype": "text/x-python",
   "name": "python",
   "nbconvert_exporter": "python",
   "pygments_lexer": "ipython3",
   "version": "3.7.6"
  }
 },
 "nbformat": 4,
 "nbformat_minor": 4
}

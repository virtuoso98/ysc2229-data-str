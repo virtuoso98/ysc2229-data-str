{
 "cells": [
  {
   "cell_type": "code",
   "execution_count": null,
   "metadata": {},
   "outputs": [],
   "source": [
    "# A0149963M \n",
    "# YSC2229 Assignment 2"
   ]
  },
  {
   "cell_type": "code",
   "execution_count": null,
   "metadata": {},
   "outputs": [],
   "source": [
    "# Part(a)"
   ]
  },
  {
   "cell_type": "code",
   "execution_count": 12,
   "metadata": {},
   "outputs": [],
   "source": [
    "def max_subarray_naive(arr):\n",
    "    maxSum = float('-inf')\n",
    "    first = 0\n",
    "    last = 0\n",
    "    \n",
    "    for i in range(len(arr)):\n",
    "        total = 0\n",
    "        for j in range(i, len(arr)):\n",
    "            total += arr[j]\n",
    "            if maxSum < total :\n",
    "                first = i\n",
    "                last = j\n",
    "                maxSum = total\n",
    "                \n",
    "    \n",
    "    return (first, last, maxSum)\n"
   ]
  },
  {
   "cell_type": "code",
   "execution_count": 11,
   "metadata": {},
   "outputs": [
    {
     "name": "stdout",
     "output_type": "stream",
     "text": [
      "(0, 5, 16)\n"
     ]
    }
   ],
   "source": [
    "def max_crossing_subarray(arr, low, mid, high):\n",
    "    leftSum = float('-inf')\n",
    "    maxLeft = float('-inf')\n",
    "    total = 0\n",
    "    for i in reversed(range(low, mid + 1)):\n",
    "        total += arr[i]\n",
    "        if total > leftSum:\n",
    "            leftSum = total\n",
    "            maxLeft = i\n",
    "    \n",
    "    rightSum = float('-inf')\n",
    "    maxRight = float('-inf')\n",
    "    total = 0\n",
    "    for j in range(mid + 1, high):\n",
    "        total += arr[j]\n",
    "        if total > rightSum:\n",
    "            rightSum = total\n",
    "            maxRight = j\n",
    "    return (maxLeft, maxRight, leftSum + rightSum)\n",
    "\n",
    "\n",
    "def max_subarray_eff(arr, low, high):\n",
    "    if high == low:\n",
    "        return(low, high, arr[low])\n",
    "    else:\n",
    "        mid = (low + high) // 2\n",
    "        leftLow, leftHigh, leftSum = max_subarray_eff(arr, low, mid)\n",
    "        rightLow, rightHigh, rightSum = max_subarray_eff(arr, mid + 1, high)\n",
    "        crossLow, crossHigh, crossSum = max_crossing_subarray(arr, low, mid, high)\n",
    "        \n",
    "        if leftSum >= rightSum and leftSum >= crossSum:\n",
    "            return (leftLow, leftHigh, leftSum)\n",
    "        elif rightSum >= leftSum and rightSum >= crossSum:\n",
    "            return (rightLow, rightHigh, rightSum)\n",
    "        else: \n",
    "            return (crossLow, crossHigh, crossSum)\n",
    "        "
   ]
  },
  {
   "cell_type": "code",
   "execution_count": 17,
   "metadata": {},
   "outputs": [],
   "source": [
    "def distance(p1, p2):\n",
    "    return ((p1[0] - p2[0]) ** 2 + (p1[1] - p2[1]) ** 2) ** 0.5\n",
    "\n",
    "def bruteForce(X, n): \n",
    "    min_val = float('inf')\n",
    "    first_point = 0\n",
    "    second_point = 1\n",
    "    for i in range(n): \n",
    "        for j in range(i + 1, n): \n",
    "            if dist(X[i], X[j]) < min_val: \n",
    "                min_val = dist(X[i], X[j]) \n",
    "    return (first_point, second_point, min_val) \n",
    "\n",
    "\n",
    "def closest_pair_aux(X, Y, n):\n",
    "    # no need for divide and conquer for small size\n",
    "    if n <= 3:\n",
    "        return bruteForce(X, n)\n",
    "    \n",
    "    mid = n // 2\n",
    "    midPoint = X[mid]\n",
    "    \n",
    "    firstLeft, lastLeft, minLeft = closest_pair_aux(X[:mid], Y, mid)\n",
    "    firstRight, lastRight, minRight = = closest_pair_aux(X[mid:], Q, n - mid)\n",
    "    \n",
    "    dist = min(minLeft, minRight)\n",
    "    strip = []\n",
    "    for i in range(n):\n",
    "        if abs(Y[i][0] - midPoint[0]) <= dist: \n",
    "            strip.append()\n",
    "    \n",
    "def closest_pair(P, n):\n",
    "    # sort according to ascending x\n",
    "    P.sort(key = lambda P: P[0])\n",
    "    X = P\n",
    "    # sort from ascending y\n",
    "    Y = P\n",
    "    Y.sort(key = lambda Y: Y[1])\n",
    "    return closest_pair_aux(X, Y, n)\n"
   ]
  }
 ],
 "metadata": {
  "kernelspec": {
   "display_name": "Python 3",
   "language": "python",
   "name": "python3"
  },
  "language_info": {
   "codemirror_mode": {
    "name": "ipython",
    "version": 3
   },
   "file_extension": ".py",
   "mimetype": "text/x-python",
   "name": "python",
   "nbconvert_exporter": "python",
   "pygments_lexer": "ipython3",
   "version": "3.7.6"
  }
 },
 "nbformat": 4,
 "nbformat_minor": 4
}

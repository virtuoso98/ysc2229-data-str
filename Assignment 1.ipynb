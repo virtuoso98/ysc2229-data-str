{
 "cells": [
  {
   "cell_type": "code",
   "execution_count": 28,
   "metadata": {},
   "outputs": [
    {
     "data": {
      "text/plain": [
       "'0111111111111'"
      ]
     },
     "execution_count": 28,
     "metadata": {},
     "output_type": "execute_result"
    }
   ],
   "source": [
    "# solution for part 1, question 1\n",
    "\n",
    "def bitwise_and(s1, s2):\n",
    "    \"\"\"\n",
    "    Function to find bitwise and operator, where\n",
    "    s1 = bit string 1\n",
    "    s2 = bit string 2\n",
    "    \"\"\"\n",
    "    if len(s1) != len(s2):\n",
    "        raise ValueError(\"Length of 2 strings not equal\")\n",
    "        \n",
    "    output = \"\"\n",
    "    \n",
    "    for i in range(0, len(s1)):\n",
    "        if s1[i] == s2[i] and s1[i] == \"1\":\n",
    "            output += \"1\"\n",
    "        else:\n",
    "            output += \"0\"\n",
    "    \n",
    "    return output\n",
    "\n",
    "def bitwise_minus_one(s):\n",
    "    \"\"\"\n",
    "    Scans the back of the string to find the first 1. \n",
    "    Stores the index, then copy the front part of the array.\n",
    "    Index where first 1 is detected becomes 0 and the\n",
    "    trailing part of the array becomes 1s.\n",
    "    \"\"\"\n",
    "    count = 0\n",
    "    for i in reversed(range(len(s))):\n",
    "        if s[i] == \"0\":\n",
    "            count += 1\n",
    "        else:\n",
    "            end = i\n",
    "            break\n",
    "    new_str = s[:end] + \"0\" + \"1\" * count\n",
    "    return new_str\n",
    "            \n",
    "            \n",
    "def bit_count(str_bit):\n",
    "    \"\"\"\n",
    "    Main function to find bit count. \n",
    "    Followed pseudocode closely\n",
    "    \"\"\"\n",
    "    count = 0\n",
    "    while \"1\" in str_bit:\n",
    "        count += 1\n",
    "        str_bit = bitwise_and(str_bit, bitwise_minus_one(str_bit))\n",
    "    \n",
    "    return count"
   ]
  },
  {
   "cell_type": "code",
   "execution_count": 45,
   "metadata": {},
   "outputs": [
    {
     "name": "stdout",
     "output_type": "stream",
     "text": [
      "9\n"
     ]
    }
   ],
   "source": [
    "def pow_aux(x, n, a):\n",
    "    \"\"\"\n",
    "    Function to compute the power function, where\n",
    "    x = base\n",
    "    n = power\n",
    "    a = accumulator (set at 1)\n",
    "    \"\"\"\n",
    "    if n == 0:\n",
    "        return a\n",
    "    else:\n",
    "        return pow_aux(x, n - 1, a * x)\n",
    "\n",
    "\n",
    "def pow (x, n):\n",
    "    return pow_aux(x, n, 1)\n",
    "    "
   ]
  },
  {
   "cell_type": "code",
   "execution_count": null,
   "metadata": {},
   "outputs": [],
   "source": []
  }
 ],
 "metadata": {
  "kernelspec": {
   "display_name": "Python 3",
   "language": "python",
   "name": "python3"
  },
  "language_info": {
   "codemirror_mode": {
    "name": "ipython",
    "version": 3
   },
   "file_extension": ".py",
   "mimetype": "text/x-python",
   "name": "python",
   "nbconvert_exporter": "python",
   "pygments_lexer": "ipython3",
   "version": "3.8.5"
  }
 },
 "nbformat": 4,
 "nbformat_minor": 4
}
